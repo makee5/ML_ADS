{
 "cells": [
  {
   "cell_type": "markdown",
   "source": [
    "# Introduction to pandas"
   ],
   "metadata": {
    "collapsed": false
   },
   "id": "dfc0871c40e2c9ba"
  },
  {
   "cell_type": "code",
   "outputs": [],
   "source": [
    "# imports\n",
    "import pandas as pd\n",
    "import numpy as np"
   ],
   "metadata": {
    "collapsed": false,
    "ExecuteTime": {
     "end_time": "2024-02-15T10:53:27.073350Z",
     "start_time": "2024-02-15T10:53:27.068633Z"
    }
   },
   "id": "1f78f2d1c828fc8a",
   "execution_count": 5
  },
  {
   "cell_type": "markdown",
   "source": [
    "## Pandas Dataframes"
   ],
   "metadata": {
    "collapsed": false
   },
   "id": "de775eeec9c04b74"
  },
  {
   "cell_type": "markdown",
   "source": [
    "### create a dataframe with random data"
   ],
   "metadata": {
    "collapsed": false
   },
   "id": "867a8b695859863"
  },
  {
   "cell_type": "code",
   "outputs": [
    {
     "data": {
      "text/plain": "          A         B         C         D\n0  1.940410 -0.332317  1.545259  0.059714\n1 -0.839912  0.376141 -0.158381  0.358148\n2 -0.816047  1.969123  0.059128 -0.423891\n3 -1.671420  1.219982  1.784673  1.280161\n4 -0.774600 -0.209410  0.912058 -1.250596",
      "text/html": "<div>\n<style scoped>\n    .dataframe tbody tr th:only-of-type {\n        vertical-align: middle;\n    }\n\n    .dataframe tbody tr th {\n        vertical-align: top;\n    }\n\n    .dataframe thead th {\n        text-align: right;\n    }\n</style>\n<table border=\"1\" class=\"dataframe\">\n  <thead>\n    <tr style=\"text-align: right;\">\n      <th></th>\n      <th>A</th>\n      <th>B</th>\n      <th>C</th>\n      <th>D</th>\n    </tr>\n  </thead>\n  <tbody>\n    <tr>\n      <th>0</th>\n      <td>1.940410</td>\n      <td>-0.332317</td>\n      <td>1.545259</td>\n      <td>0.059714</td>\n    </tr>\n    <tr>\n      <th>1</th>\n      <td>-0.839912</td>\n      <td>0.376141</td>\n      <td>-0.158381</td>\n      <td>0.358148</td>\n    </tr>\n    <tr>\n      <th>2</th>\n      <td>-0.816047</td>\n      <td>1.969123</td>\n      <td>0.059128</td>\n      <td>-0.423891</td>\n    </tr>\n    <tr>\n      <th>3</th>\n      <td>-1.671420</td>\n      <td>1.219982</td>\n      <td>1.784673</td>\n      <td>1.280161</td>\n    </tr>\n    <tr>\n      <th>4</th>\n      <td>-0.774600</td>\n      <td>-0.209410</td>\n      <td>0.912058</td>\n      <td>-1.250596</td>\n    </tr>\n  </tbody>\n</table>\n</div>"
     },
     "execution_count": 2,
     "metadata": {},
     "output_type": "execute_result"
    }
   ],
   "source": [
    "df = pd.DataFrame(np.random.randn(5, 4), columns=['A', 'B', 'C', 'D'])\n",
    "df"
   ],
   "metadata": {
    "collapsed": false,
    "ExecuteTime": {
     "end_time": "2024-02-07T20:11:46.911631024Z",
     "start_time": "2024-02-07T20:11:46.890863382Z"
    }
   },
   "id": "44389b3395bac54b",
   "execution_count": 2
  },
  {
   "cell_type": "markdown",
   "source": [
    "### create a dataframe with a dictionary"
   ],
   "metadata": {
    "collapsed": false
   },
   "id": "d72584f04f9f1bea"
  },
  {
   "cell_type": "code",
   "outputs": [
    {
     "data": {
      "text/plain": "     A          B    C  D      E    F\n0  1.0 2013-01-02  1.0  3   test  foo\n1  1.0 2013-01-02  1.0  3  train  foo\n2  1.0 2013-01-02  1.0  3   test  foo\n3  1.0 2013-01-02  1.0  3  train  foo",
      "text/html": "<div>\n<style scoped>\n    .dataframe tbody tr th:only-of-type {\n        vertical-align: middle;\n    }\n\n    .dataframe tbody tr th {\n        vertical-align: top;\n    }\n\n    .dataframe thead th {\n        text-align: right;\n    }\n</style>\n<table border=\"1\" class=\"dataframe\">\n  <thead>\n    <tr style=\"text-align: right;\">\n      <th></th>\n      <th>A</th>\n      <th>B</th>\n      <th>C</th>\n      <th>D</th>\n      <th>E</th>\n      <th>F</th>\n    </tr>\n  </thead>\n  <tbody>\n    <tr>\n      <th>0</th>\n      <td>1.0</td>\n      <td>2013-01-02</td>\n      <td>1.0</td>\n      <td>3</td>\n      <td>test</td>\n      <td>foo</td>\n    </tr>\n    <tr>\n      <th>1</th>\n      <td>1.0</td>\n      <td>2013-01-02</td>\n      <td>1.0</td>\n      <td>3</td>\n      <td>train</td>\n      <td>foo</td>\n    </tr>\n    <tr>\n      <th>2</th>\n      <td>1.0</td>\n      <td>2013-01-02</td>\n      <td>1.0</td>\n      <td>3</td>\n      <td>test</td>\n      <td>foo</td>\n    </tr>\n    <tr>\n      <th>3</th>\n      <td>1.0</td>\n      <td>2013-01-02</td>\n      <td>1.0</td>\n      <td>3</td>\n      <td>train</td>\n      <td>foo</td>\n    </tr>\n  </tbody>\n</table>\n</div>"
     },
     "execution_count": 3,
     "metadata": {},
     "output_type": "execute_result"
    }
   ],
   "source": [
    "df2 = pd.DataFrame({\n",
    "    'A': 1.,\n",
    "    'B': pd.Timestamp('20130102'),\n",
    "    'C': pd.Series(1, index=list(range(4)), dtype='float32'),\n",
    "    'D': np.array([3] * 4, dtype='int32'),\n",
    "    'E': pd.Categorical([\"test\", \"train\", \"test\", \"train\"]),\n",
    "    'F': 'foo'\n",
    "}, index=list(range(4)))\n",
    "df2"
   ],
   "metadata": {
    "collapsed": false,
    "ExecuteTime": {
     "end_time": "2024-02-07T20:11:46.913637279Z",
     "start_time": "2024-02-07T20:11:46.891725759Z"
    }
   },
   "id": "c98433c1262314c0",
   "execution_count": 3
  },
  {
   "cell_type": "markdown",
   "source": [
    "### check the data types of the columns"
   ],
   "metadata": {
    "collapsed": false
   },
   "id": "a090bfa42d4b4ad2"
  },
  {
   "cell_type": "code",
   "outputs": [
    {
     "data": {
      "text/plain": "A          float64\nB    datetime64[s]\nC          float32\nD            int32\nE         category\nF           object\ndtype: object"
     },
     "execution_count": 4,
     "metadata": {},
     "output_type": "execute_result"
    }
   ],
   "source": [
    "df2.dtypes"
   ],
   "metadata": {
    "collapsed": false,
    "ExecuteTime": {
     "end_time": "2024-02-07T20:11:46.922229709Z",
     "start_time": "2024-02-07T20:11:46.892131284Z"
    }
   },
   "id": "95ff23d60ac96c95",
   "execution_count": 4
  },
  {
   "cell_type": "markdown",
   "source": [
    "### check the rows names (samples)"
   ],
   "metadata": {
    "collapsed": false
   },
   "id": "536d323b0fffbacc"
  },
  {
   "cell_type": "code",
   "outputs": [
    {
     "data": {
      "text/plain": "Index([0, 1, 2, 3], dtype='int64')"
     },
     "execution_count": 5,
     "metadata": {},
     "output_type": "execute_result"
    }
   ],
   "source": [
    "df2.index"
   ],
   "metadata": {
    "collapsed": false,
    "ExecuteTime": {
     "end_time": "2024-02-07T20:11:46.923964552Z",
     "start_time": "2024-02-07T20:11:46.892552289Z"
    }
   },
   "id": "db81e91dd3966e99",
   "execution_count": 5
  },
  {
   "cell_type": "markdown",
   "source": [
    "### check the columns names (features)"
   ],
   "metadata": {
    "collapsed": false
   },
   "id": "63e7b818d22691ba"
  },
  {
   "cell_type": "code",
   "outputs": [
    {
     "data": {
      "text/plain": "Index(['A', 'B', 'C', 'D', 'E', 'F'], dtype='object')"
     },
     "execution_count": 6,
     "metadata": {},
     "output_type": "execute_result"
    }
   ],
   "source": [
    "df2.columns"
   ],
   "metadata": {
    "collapsed": false,
    "ExecuteTime": {
     "end_time": "2024-02-07T20:11:46.925467207Z",
     "start_time": "2024-02-07T20:11:46.893329615Z"
    }
   },
   "id": "a7baa28932db4ce0",
   "execution_count": 6
  },
  {
   "cell_type": "markdown",
   "source": [
    "### check the values"
   ],
   "metadata": {
    "collapsed": false
   },
   "id": "8e30fce1e94d5dac"
  },
  {
   "cell_type": "code",
   "outputs": [
    {
     "data": {
      "text/plain": "array([[1.0, Timestamp('2013-01-02 00:00:00'), 1.0, 3, 'test', 'foo'],\n       [1.0, Timestamp('2013-01-02 00:00:00'), 1.0, 3, 'train', 'foo'],\n       [1.0, Timestamp('2013-01-02 00:00:00'), 1.0, 3, 'test', 'foo'],\n       [1.0, Timestamp('2013-01-02 00:00:00'), 1.0, 3, 'train', 'foo']],\n      dtype=object)"
     },
     "execution_count": 7,
     "metadata": {},
     "output_type": "execute_result"
    }
   ],
   "source": [
    "df2.values"
   ],
   "metadata": {
    "collapsed": false,
    "ExecuteTime": {
     "end_time": "2024-02-07T20:11:46.927969949Z",
     "start_time": "2024-02-07T20:11:46.896456404Z"
    }
   },
   "id": "e1c8c7b9fc52f4ff",
   "execution_count": 7
  },
  {
   "cell_type": "markdown",
   "source": [
    "### dataset shape and size"
   ],
   "metadata": {
    "collapsed": false
   },
   "id": "d9151f93220cc3bd"
  },
  {
   "cell_type": "code",
   "outputs": [
    {
     "data": {
      "text/plain": "((4, 6), 24)"
     },
     "execution_count": 8,
     "metadata": {},
     "output_type": "execute_result"
    }
   ],
   "source": [
    "df2.shape, df2.size"
   ],
   "metadata": {
    "collapsed": false,
    "ExecuteTime": {
     "end_time": "2024-02-07T20:11:47.457076663Z",
     "start_time": "2024-02-07T20:11:47.324291526Z"
    }
   },
   "id": "9d11f29c01973c2f",
   "execution_count": 8
  },
  {
   "cell_type": "markdown",
   "source": [
    "### check the first 2 rows"
   ],
   "metadata": {
    "collapsed": false
   },
   "id": "96171ffb15168db"
  },
  {
   "cell_type": "code",
   "outputs": [
    {
     "data": {
      "text/plain": "     A          B    C  D      E    F\n0  1.0 2013-01-02  1.0  3   test  foo\n1  1.0 2013-01-02  1.0  3  train  foo",
      "text/html": "<div>\n<style scoped>\n    .dataframe tbody tr th:only-of-type {\n        vertical-align: middle;\n    }\n\n    .dataframe tbody tr th {\n        vertical-align: top;\n    }\n\n    .dataframe thead th {\n        text-align: right;\n    }\n</style>\n<table border=\"1\" class=\"dataframe\">\n  <thead>\n    <tr style=\"text-align: right;\">\n      <th></th>\n      <th>A</th>\n      <th>B</th>\n      <th>C</th>\n      <th>D</th>\n      <th>E</th>\n      <th>F</th>\n    </tr>\n  </thead>\n  <tbody>\n    <tr>\n      <th>0</th>\n      <td>1.0</td>\n      <td>2013-01-02</td>\n      <td>1.0</td>\n      <td>3</td>\n      <td>test</td>\n      <td>foo</td>\n    </tr>\n    <tr>\n      <th>1</th>\n      <td>1.0</td>\n      <td>2013-01-02</td>\n      <td>1.0</td>\n      <td>3</td>\n      <td>train</td>\n      <td>foo</td>\n    </tr>\n  </tbody>\n</table>\n</div>"
     },
     "execution_count": 9,
     "metadata": {},
     "output_type": "execute_result"
    }
   ],
   "source": [
    "df2.head(2)\n",
    "\n",
    "# or \n",
    "\n",
    "df2[:2]"
   ],
   "metadata": {
    "collapsed": false,
    "ExecuteTime": {
     "end_time": "2024-02-07T20:11:48.017841135Z",
     "start_time": "2024-02-07T20:11:47.970685409Z"
    }
   },
   "id": "d2817adb21291e2",
   "execution_count": 9
  },
  {
   "cell_type": "markdown",
   "source": [
    "### check the last 2 rows"
   ],
   "metadata": {
    "collapsed": false
   },
   "id": "6c81fe0c6a86ee72"
  },
  {
   "cell_type": "code",
   "outputs": [
    {
     "data": {
      "text/plain": "     A          B    C  D      E    F\n2  1.0 2013-01-02  1.0  3   test  foo\n3  1.0 2013-01-02  1.0  3  train  foo",
      "text/html": "<div>\n<style scoped>\n    .dataframe tbody tr th:only-of-type {\n        vertical-align: middle;\n    }\n\n    .dataframe tbody tr th {\n        vertical-align: top;\n    }\n\n    .dataframe thead th {\n        text-align: right;\n    }\n</style>\n<table border=\"1\" class=\"dataframe\">\n  <thead>\n    <tr style=\"text-align: right;\">\n      <th></th>\n      <th>A</th>\n      <th>B</th>\n      <th>C</th>\n      <th>D</th>\n      <th>E</th>\n      <th>F</th>\n    </tr>\n  </thead>\n  <tbody>\n    <tr>\n      <th>2</th>\n      <td>1.0</td>\n      <td>2013-01-02</td>\n      <td>1.0</td>\n      <td>3</td>\n      <td>test</td>\n      <td>foo</td>\n    </tr>\n    <tr>\n      <th>3</th>\n      <td>1.0</td>\n      <td>2013-01-02</td>\n      <td>1.0</td>\n      <td>3</td>\n      <td>train</td>\n      <td>foo</td>\n    </tr>\n  </tbody>\n</table>\n</div>"
     },
     "execution_count": 10,
     "metadata": {},
     "output_type": "execute_result"
    }
   ],
   "source": [
    "df2.tail(2)\n",
    "\n",
    "# or\n",
    "\n",
    "df2[-2:]"
   ],
   "metadata": {
    "collapsed": false,
    "ExecuteTime": {
     "end_time": "2024-02-07T20:11:48.788406606Z",
     "start_time": "2024-02-07T20:11:48.745430830Z"
    }
   },
   "id": "e6d0041be14aade5",
   "execution_count": 10
  },
  {
   "cell_type": "markdown",
   "source": [
    "### check the summary statistics"
   ],
   "metadata": {
    "collapsed": false
   },
   "id": "f33483c0a5df67a0"
  },
  {
   "cell_type": "code",
   "outputs": [
    {
     "data": {
      "text/plain": "         A                    B    C    D\ncount  4.0                    4  4.0  4.0\nmean   1.0  2013-01-02 00:00:00  1.0  3.0\nmin    1.0  2013-01-02 00:00:00  1.0  3.0\n25%    1.0  2013-01-02 00:00:00  1.0  3.0\n50%    1.0  2013-01-02 00:00:00  1.0  3.0\n75%    1.0  2013-01-02 00:00:00  1.0  3.0\nmax    1.0  2013-01-02 00:00:00  1.0  3.0\nstd    0.0                  NaN  0.0  0.0",
      "text/html": "<div>\n<style scoped>\n    .dataframe tbody tr th:only-of-type {\n        vertical-align: middle;\n    }\n\n    .dataframe tbody tr th {\n        vertical-align: top;\n    }\n\n    .dataframe thead th {\n        text-align: right;\n    }\n</style>\n<table border=\"1\" class=\"dataframe\">\n  <thead>\n    <tr style=\"text-align: right;\">\n      <th></th>\n      <th>A</th>\n      <th>B</th>\n      <th>C</th>\n      <th>D</th>\n    </tr>\n  </thead>\n  <tbody>\n    <tr>\n      <th>count</th>\n      <td>4.0</td>\n      <td>4</td>\n      <td>4.0</td>\n      <td>4.0</td>\n    </tr>\n    <tr>\n      <th>mean</th>\n      <td>1.0</td>\n      <td>2013-01-02 00:00:00</td>\n      <td>1.0</td>\n      <td>3.0</td>\n    </tr>\n    <tr>\n      <th>min</th>\n      <td>1.0</td>\n      <td>2013-01-02 00:00:00</td>\n      <td>1.0</td>\n      <td>3.0</td>\n    </tr>\n    <tr>\n      <th>25%</th>\n      <td>1.0</td>\n      <td>2013-01-02 00:00:00</td>\n      <td>1.0</td>\n      <td>3.0</td>\n    </tr>\n    <tr>\n      <th>50%</th>\n      <td>1.0</td>\n      <td>2013-01-02 00:00:00</td>\n      <td>1.0</td>\n      <td>3.0</td>\n    </tr>\n    <tr>\n      <th>75%</th>\n      <td>1.0</td>\n      <td>2013-01-02 00:00:00</td>\n      <td>1.0</td>\n      <td>3.0</td>\n    </tr>\n    <tr>\n      <th>max</th>\n      <td>1.0</td>\n      <td>2013-01-02 00:00:00</td>\n      <td>1.0</td>\n      <td>3.0</td>\n    </tr>\n    <tr>\n      <th>std</th>\n      <td>0.0</td>\n      <td>NaN</td>\n      <td>0.0</td>\n      <td>0.0</td>\n    </tr>\n  </tbody>\n</table>\n</div>"
     },
     "execution_count": 11,
     "metadata": {},
     "output_type": "execute_result"
    }
   ],
   "source": [
    "df2.describe()"
   ],
   "metadata": {
    "collapsed": false,
    "ExecuteTime": {
     "end_time": "2024-02-07T20:11:49.687343324Z",
     "start_time": "2024-02-07T20:11:49.630218036Z"
    }
   },
   "id": "4d0456edf788f42d",
   "execution_count": 11
  },
  {
   "cell_type": "code",
   "outputs": [
    {
     "data": {
      "text/plain": "          A                    B    C    D     E    F\ncount   4.0                    4  4.0  4.0     4    4\nunique  NaN                  NaN  NaN  NaN     2    1\ntop     NaN                  NaN  NaN  NaN  test  foo\nfreq    NaN                  NaN  NaN  NaN     2    4\nmean    1.0  2013-01-02 00:00:00  1.0  3.0   NaN  NaN\nmin     1.0  2013-01-02 00:00:00  1.0  3.0   NaN  NaN\n25%     1.0  2013-01-02 00:00:00  1.0  3.0   NaN  NaN\n50%     1.0  2013-01-02 00:00:00  1.0  3.0   NaN  NaN\n75%     1.0  2013-01-02 00:00:00  1.0  3.0   NaN  NaN\nmax     1.0  2013-01-02 00:00:00  1.0  3.0   NaN  NaN\nstd     0.0                  NaN  0.0  0.0   NaN  NaN",
      "text/html": "<div>\n<style scoped>\n    .dataframe tbody tr th:only-of-type {\n        vertical-align: middle;\n    }\n\n    .dataframe tbody tr th {\n        vertical-align: top;\n    }\n\n    .dataframe thead th {\n        text-align: right;\n    }\n</style>\n<table border=\"1\" class=\"dataframe\">\n  <thead>\n    <tr style=\"text-align: right;\">\n      <th></th>\n      <th>A</th>\n      <th>B</th>\n      <th>C</th>\n      <th>D</th>\n      <th>E</th>\n      <th>F</th>\n    </tr>\n  </thead>\n  <tbody>\n    <tr>\n      <th>count</th>\n      <td>4.0</td>\n      <td>4</td>\n      <td>4.0</td>\n      <td>4.0</td>\n      <td>4</td>\n      <td>4</td>\n    </tr>\n    <tr>\n      <th>unique</th>\n      <td>NaN</td>\n      <td>NaN</td>\n      <td>NaN</td>\n      <td>NaN</td>\n      <td>2</td>\n      <td>1</td>\n    </tr>\n    <tr>\n      <th>top</th>\n      <td>NaN</td>\n      <td>NaN</td>\n      <td>NaN</td>\n      <td>NaN</td>\n      <td>test</td>\n      <td>foo</td>\n    </tr>\n    <tr>\n      <th>freq</th>\n      <td>NaN</td>\n      <td>NaN</td>\n      <td>NaN</td>\n      <td>NaN</td>\n      <td>2</td>\n      <td>4</td>\n    </tr>\n    <tr>\n      <th>mean</th>\n      <td>1.0</td>\n      <td>2013-01-02 00:00:00</td>\n      <td>1.0</td>\n      <td>3.0</td>\n      <td>NaN</td>\n      <td>NaN</td>\n    </tr>\n    <tr>\n      <th>min</th>\n      <td>1.0</td>\n      <td>2013-01-02 00:00:00</td>\n      <td>1.0</td>\n      <td>3.0</td>\n      <td>NaN</td>\n      <td>NaN</td>\n    </tr>\n    <tr>\n      <th>25%</th>\n      <td>1.0</td>\n      <td>2013-01-02 00:00:00</td>\n      <td>1.0</td>\n      <td>3.0</td>\n      <td>NaN</td>\n      <td>NaN</td>\n    </tr>\n    <tr>\n      <th>50%</th>\n      <td>1.0</td>\n      <td>2013-01-02 00:00:00</td>\n      <td>1.0</td>\n      <td>3.0</td>\n      <td>NaN</td>\n      <td>NaN</td>\n    </tr>\n    <tr>\n      <th>75%</th>\n      <td>1.0</td>\n      <td>2013-01-02 00:00:00</td>\n      <td>1.0</td>\n      <td>3.0</td>\n      <td>NaN</td>\n      <td>NaN</td>\n    </tr>\n    <tr>\n      <th>max</th>\n      <td>1.0</td>\n      <td>2013-01-02 00:00:00</td>\n      <td>1.0</td>\n      <td>3.0</td>\n      <td>NaN</td>\n      <td>NaN</td>\n    </tr>\n    <tr>\n      <th>std</th>\n      <td>0.0</td>\n      <td>NaN</td>\n      <td>0.0</td>\n      <td>0.0</td>\n      <td>NaN</td>\n      <td>NaN</td>\n    </tr>\n  </tbody>\n</table>\n</div>"
     },
     "execution_count": 12,
     "metadata": {},
     "output_type": "execute_result"
    }
   ],
   "source": [
    "df2.describe(include='all')"
   ],
   "metadata": {
    "collapsed": false,
    "ExecuteTime": {
     "end_time": "2024-02-07T20:11:49.993980548Z",
     "start_time": "2024-02-07T20:11:49.945967346Z"
    }
   },
   "id": "db4c5128e90ef388",
   "execution_count": 12
  },
  {
   "cell_type": "code",
   "outputs": [
    {
     "data": {
      "text/plain": "         A    C    D\ncount  4.0  4.0  4.0\nmean   1.0  1.0  3.0\nstd    0.0  0.0  0.0\nmin    1.0  1.0  3.0\n25%    1.0  1.0  3.0\n50%    1.0  1.0  3.0\n75%    1.0  1.0  3.0\nmax    1.0  1.0  3.0",
      "text/html": "<div>\n<style scoped>\n    .dataframe tbody tr th:only-of-type {\n        vertical-align: middle;\n    }\n\n    .dataframe tbody tr th {\n        vertical-align: top;\n    }\n\n    .dataframe thead th {\n        text-align: right;\n    }\n</style>\n<table border=\"1\" class=\"dataframe\">\n  <thead>\n    <tr style=\"text-align: right;\">\n      <th></th>\n      <th>A</th>\n      <th>C</th>\n      <th>D</th>\n    </tr>\n  </thead>\n  <tbody>\n    <tr>\n      <th>count</th>\n      <td>4.0</td>\n      <td>4.0</td>\n      <td>4.0</td>\n    </tr>\n    <tr>\n      <th>mean</th>\n      <td>1.0</td>\n      <td>1.0</td>\n      <td>3.0</td>\n    </tr>\n    <tr>\n      <th>std</th>\n      <td>0.0</td>\n      <td>0.0</td>\n      <td>0.0</td>\n    </tr>\n    <tr>\n      <th>min</th>\n      <td>1.0</td>\n      <td>1.0</td>\n      <td>3.0</td>\n    </tr>\n    <tr>\n      <th>25%</th>\n      <td>1.0</td>\n      <td>1.0</td>\n      <td>3.0</td>\n    </tr>\n    <tr>\n      <th>50%</th>\n      <td>1.0</td>\n      <td>1.0</td>\n      <td>3.0</td>\n    </tr>\n    <tr>\n      <th>75%</th>\n      <td>1.0</td>\n      <td>1.0</td>\n      <td>3.0</td>\n    </tr>\n    <tr>\n      <th>max</th>\n      <td>1.0</td>\n      <td>1.0</td>\n      <td>3.0</td>\n    </tr>\n  </tbody>\n</table>\n</div>"
     },
     "execution_count": 13,
     "metadata": {},
     "output_type": "execute_result"
    }
   ],
   "source": [
    "df2.describe(include=[np.number])"
   ],
   "metadata": {
    "collapsed": false,
    "ExecuteTime": {
     "end_time": "2024-02-07T20:11:50.268332135Z",
     "start_time": "2024-02-07T20:11:50.182487650Z"
    }
   },
   "id": "439e89f0bb14512b",
   "execution_count": 13
  },
  {
   "cell_type": "markdown",
   "source": [
    "## read a csv file"
   ],
   "metadata": {
    "collapsed": false
   },
   "id": "4a91e75849397d5c"
  },
  {
   "cell_type": "code",
   "outputs": [
    {
     "ename": "FileNotFoundError",
     "evalue": "[Errno 2] No such file or directory: 'data/exxample_data.csv'",
     "output_type": "error",
     "traceback": [
      "\u001B[0;31m---------------------------------------------------------------------------\u001B[0m",
      "\u001B[0;31mFileNotFoundError\u001B[0m                         Traceback (most recent call last)",
      "Cell \u001B[0;32mIn[14], line 1\u001B[0m\n\u001B[0;32m----> 1\u001B[0m df3 \u001B[38;5;241m=\u001B[39m \u001B[43mpd\u001B[49m\u001B[38;5;241;43m.\u001B[39;49m\u001B[43mread_csv\u001B[49m\u001B[43m(\u001B[49m\u001B[38;5;124;43m'\u001B[39;49m\u001B[38;5;124;43mdata/exxample_data.csv\u001B[39;49m\u001B[38;5;124;43m'\u001B[39;49m\u001B[43m,\u001B[49m\u001B[43m \u001B[49m\u001B[43mindex_col\u001B[49m\u001B[38;5;241;43m=\u001B[39;49m\u001B[38;5;241;43m0\u001B[39;49m\u001B[43m,\u001B[49m\u001B[43m \u001B[49m\u001B[43mheader\u001B[49m\u001B[38;5;241;43m=\u001B[39;49m\u001B[38;5;241;43m0\u001B[39;49m\u001B[43m,\u001B[49m\u001B[43m \u001B[49m\u001B[43msep\u001B[49m\u001B[38;5;241;43m=\u001B[39;49m\u001B[38;5;124;43m'\u001B[39;49m\u001B[38;5;124;43m,\u001B[39;49m\u001B[38;5;124;43m'\u001B[39;49m\u001B[43m)\u001B[49m\n",
      "File \u001B[0;32m~/anaconda3/envs/ML_ADS/lib/python3.10/site-packages/pandas/io/parsers/readers.py:948\u001B[0m, in \u001B[0;36mread_csv\u001B[0;34m(filepath_or_buffer, sep, delimiter, header, names, index_col, usecols, dtype, engine, converters, true_values, false_values, skipinitialspace, skiprows, skipfooter, nrows, na_values, keep_default_na, na_filter, verbose, skip_blank_lines, parse_dates, infer_datetime_format, keep_date_col, date_parser, date_format, dayfirst, cache_dates, iterator, chunksize, compression, thousands, decimal, lineterminator, quotechar, quoting, doublequote, escapechar, comment, encoding, encoding_errors, dialect, on_bad_lines, delim_whitespace, low_memory, memory_map, float_precision, storage_options, dtype_backend)\u001B[0m\n\u001B[1;32m    935\u001B[0m kwds_defaults \u001B[38;5;241m=\u001B[39m _refine_defaults_read(\n\u001B[1;32m    936\u001B[0m     dialect,\n\u001B[1;32m    937\u001B[0m     delimiter,\n\u001B[0;32m   (...)\u001B[0m\n\u001B[1;32m    944\u001B[0m     dtype_backend\u001B[38;5;241m=\u001B[39mdtype_backend,\n\u001B[1;32m    945\u001B[0m )\n\u001B[1;32m    946\u001B[0m kwds\u001B[38;5;241m.\u001B[39mupdate(kwds_defaults)\n\u001B[0;32m--> 948\u001B[0m \u001B[38;5;28;01mreturn\u001B[39;00m \u001B[43m_read\u001B[49m\u001B[43m(\u001B[49m\u001B[43mfilepath_or_buffer\u001B[49m\u001B[43m,\u001B[49m\u001B[43m \u001B[49m\u001B[43mkwds\u001B[49m\u001B[43m)\u001B[49m\n",
      "File \u001B[0;32m~/anaconda3/envs/ML_ADS/lib/python3.10/site-packages/pandas/io/parsers/readers.py:611\u001B[0m, in \u001B[0;36m_read\u001B[0;34m(filepath_or_buffer, kwds)\u001B[0m\n\u001B[1;32m    608\u001B[0m _validate_names(kwds\u001B[38;5;241m.\u001B[39mget(\u001B[38;5;124m\"\u001B[39m\u001B[38;5;124mnames\u001B[39m\u001B[38;5;124m\"\u001B[39m, \u001B[38;5;28;01mNone\u001B[39;00m))\n\u001B[1;32m    610\u001B[0m \u001B[38;5;66;03m# Create the parser.\u001B[39;00m\n\u001B[0;32m--> 611\u001B[0m parser \u001B[38;5;241m=\u001B[39m \u001B[43mTextFileReader\u001B[49m\u001B[43m(\u001B[49m\u001B[43mfilepath_or_buffer\u001B[49m\u001B[43m,\u001B[49m\u001B[43m \u001B[49m\u001B[38;5;241;43m*\u001B[39;49m\u001B[38;5;241;43m*\u001B[39;49m\u001B[43mkwds\u001B[49m\u001B[43m)\u001B[49m\n\u001B[1;32m    613\u001B[0m \u001B[38;5;28;01mif\u001B[39;00m chunksize \u001B[38;5;129;01mor\u001B[39;00m iterator:\n\u001B[1;32m    614\u001B[0m     \u001B[38;5;28;01mreturn\u001B[39;00m parser\n",
      "File \u001B[0;32m~/anaconda3/envs/ML_ADS/lib/python3.10/site-packages/pandas/io/parsers/readers.py:1448\u001B[0m, in \u001B[0;36mTextFileReader.__init__\u001B[0;34m(self, f, engine, **kwds)\u001B[0m\n\u001B[1;32m   1445\u001B[0m     \u001B[38;5;28mself\u001B[39m\u001B[38;5;241m.\u001B[39moptions[\u001B[38;5;124m\"\u001B[39m\u001B[38;5;124mhas_index_names\u001B[39m\u001B[38;5;124m\"\u001B[39m] \u001B[38;5;241m=\u001B[39m kwds[\u001B[38;5;124m\"\u001B[39m\u001B[38;5;124mhas_index_names\u001B[39m\u001B[38;5;124m\"\u001B[39m]\n\u001B[1;32m   1447\u001B[0m \u001B[38;5;28mself\u001B[39m\u001B[38;5;241m.\u001B[39mhandles: IOHandles \u001B[38;5;241m|\u001B[39m \u001B[38;5;28;01mNone\u001B[39;00m \u001B[38;5;241m=\u001B[39m \u001B[38;5;28;01mNone\u001B[39;00m\n\u001B[0;32m-> 1448\u001B[0m \u001B[38;5;28mself\u001B[39m\u001B[38;5;241m.\u001B[39m_engine \u001B[38;5;241m=\u001B[39m \u001B[38;5;28;43mself\u001B[39;49m\u001B[38;5;241;43m.\u001B[39;49m\u001B[43m_make_engine\u001B[49m\u001B[43m(\u001B[49m\u001B[43mf\u001B[49m\u001B[43m,\u001B[49m\u001B[43m \u001B[49m\u001B[38;5;28;43mself\u001B[39;49m\u001B[38;5;241;43m.\u001B[39;49m\u001B[43mengine\u001B[49m\u001B[43m)\u001B[49m\n",
      "File \u001B[0;32m~/anaconda3/envs/ML_ADS/lib/python3.10/site-packages/pandas/io/parsers/readers.py:1705\u001B[0m, in \u001B[0;36mTextFileReader._make_engine\u001B[0;34m(self, f, engine)\u001B[0m\n\u001B[1;32m   1703\u001B[0m     \u001B[38;5;28;01mif\u001B[39;00m \u001B[38;5;124m\"\u001B[39m\u001B[38;5;124mb\u001B[39m\u001B[38;5;124m\"\u001B[39m \u001B[38;5;129;01mnot\u001B[39;00m \u001B[38;5;129;01min\u001B[39;00m mode:\n\u001B[1;32m   1704\u001B[0m         mode \u001B[38;5;241m+\u001B[39m\u001B[38;5;241m=\u001B[39m \u001B[38;5;124m\"\u001B[39m\u001B[38;5;124mb\u001B[39m\u001B[38;5;124m\"\u001B[39m\n\u001B[0;32m-> 1705\u001B[0m \u001B[38;5;28mself\u001B[39m\u001B[38;5;241m.\u001B[39mhandles \u001B[38;5;241m=\u001B[39m \u001B[43mget_handle\u001B[49m\u001B[43m(\u001B[49m\n\u001B[1;32m   1706\u001B[0m \u001B[43m    \u001B[49m\u001B[43mf\u001B[49m\u001B[43m,\u001B[49m\n\u001B[1;32m   1707\u001B[0m \u001B[43m    \u001B[49m\u001B[43mmode\u001B[49m\u001B[43m,\u001B[49m\n\u001B[1;32m   1708\u001B[0m \u001B[43m    \u001B[49m\u001B[43mencoding\u001B[49m\u001B[38;5;241;43m=\u001B[39;49m\u001B[38;5;28;43mself\u001B[39;49m\u001B[38;5;241;43m.\u001B[39;49m\u001B[43moptions\u001B[49m\u001B[38;5;241;43m.\u001B[39;49m\u001B[43mget\u001B[49m\u001B[43m(\u001B[49m\u001B[38;5;124;43m\"\u001B[39;49m\u001B[38;5;124;43mencoding\u001B[39;49m\u001B[38;5;124;43m\"\u001B[39;49m\u001B[43m,\u001B[49m\u001B[43m \u001B[49m\u001B[38;5;28;43;01mNone\u001B[39;49;00m\u001B[43m)\u001B[49m\u001B[43m,\u001B[49m\n\u001B[1;32m   1709\u001B[0m \u001B[43m    \u001B[49m\u001B[43mcompression\u001B[49m\u001B[38;5;241;43m=\u001B[39;49m\u001B[38;5;28;43mself\u001B[39;49m\u001B[38;5;241;43m.\u001B[39;49m\u001B[43moptions\u001B[49m\u001B[38;5;241;43m.\u001B[39;49m\u001B[43mget\u001B[49m\u001B[43m(\u001B[49m\u001B[38;5;124;43m\"\u001B[39;49m\u001B[38;5;124;43mcompression\u001B[39;49m\u001B[38;5;124;43m\"\u001B[39;49m\u001B[43m,\u001B[49m\u001B[43m \u001B[49m\u001B[38;5;28;43;01mNone\u001B[39;49;00m\u001B[43m)\u001B[49m\u001B[43m,\u001B[49m\n\u001B[1;32m   1710\u001B[0m \u001B[43m    \u001B[49m\u001B[43mmemory_map\u001B[49m\u001B[38;5;241;43m=\u001B[39;49m\u001B[38;5;28;43mself\u001B[39;49m\u001B[38;5;241;43m.\u001B[39;49m\u001B[43moptions\u001B[49m\u001B[38;5;241;43m.\u001B[39;49m\u001B[43mget\u001B[49m\u001B[43m(\u001B[49m\u001B[38;5;124;43m\"\u001B[39;49m\u001B[38;5;124;43mmemory_map\u001B[39;49m\u001B[38;5;124;43m\"\u001B[39;49m\u001B[43m,\u001B[49m\u001B[43m \u001B[49m\u001B[38;5;28;43;01mFalse\u001B[39;49;00m\u001B[43m)\u001B[49m\u001B[43m,\u001B[49m\n\u001B[1;32m   1711\u001B[0m \u001B[43m    \u001B[49m\u001B[43mis_text\u001B[49m\u001B[38;5;241;43m=\u001B[39;49m\u001B[43mis_text\u001B[49m\u001B[43m,\u001B[49m\n\u001B[1;32m   1712\u001B[0m \u001B[43m    \u001B[49m\u001B[43merrors\u001B[49m\u001B[38;5;241;43m=\u001B[39;49m\u001B[38;5;28;43mself\u001B[39;49m\u001B[38;5;241;43m.\u001B[39;49m\u001B[43moptions\u001B[49m\u001B[38;5;241;43m.\u001B[39;49m\u001B[43mget\u001B[49m\u001B[43m(\u001B[49m\u001B[38;5;124;43m\"\u001B[39;49m\u001B[38;5;124;43mencoding_errors\u001B[39;49m\u001B[38;5;124;43m\"\u001B[39;49m\u001B[43m,\u001B[49m\u001B[43m \u001B[49m\u001B[38;5;124;43m\"\u001B[39;49m\u001B[38;5;124;43mstrict\u001B[39;49m\u001B[38;5;124;43m\"\u001B[39;49m\u001B[43m)\u001B[49m\u001B[43m,\u001B[49m\n\u001B[1;32m   1713\u001B[0m \u001B[43m    \u001B[49m\u001B[43mstorage_options\u001B[49m\u001B[38;5;241;43m=\u001B[39;49m\u001B[38;5;28;43mself\u001B[39;49m\u001B[38;5;241;43m.\u001B[39;49m\u001B[43moptions\u001B[49m\u001B[38;5;241;43m.\u001B[39;49m\u001B[43mget\u001B[49m\u001B[43m(\u001B[49m\u001B[38;5;124;43m\"\u001B[39;49m\u001B[38;5;124;43mstorage_options\u001B[39;49m\u001B[38;5;124;43m\"\u001B[39;49m\u001B[43m,\u001B[49m\u001B[43m \u001B[49m\u001B[38;5;28;43;01mNone\u001B[39;49;00m\u001B[43m)\u001B[49m\u001B[43m,\u001B[49m\n\u001B[1;32m   1714\u001B[0m \u001B[43m\u001B[49m\u001B[43m)\u001B[49m\n\u001B[1;32m   1715\u001B[0m \u001B[38;5;28;01massert\u001B[39;00m \u001B[38;5;28mself\u001B[39m\u001B[38;5;241m.\u001B[39mhandles \u001B[38;5;129;01mis\u001B[39;00m \u001B[38;5;129;01mnot\u001B[39;00m \u001B[38;5;28;01mNone\u001B[39;00m\n\u001B[1;32m   1716\u001B[0m f \u001B[38;5;241m=\u001B[39m \u001B[38;5;28mself\u001B[39m\u001B[38;5;241m.\u001B[39mhandles\u001B[38;5;241m.\u001B[39mhandle\n",
      "File \u001B[0;32m~/anaconda3/envs/ML_ADS/lib/python3.10/site-packages/pandas/io/common.py:863\u001B[0m, in \u001B[0;36mget_handle\u001B[0;34m(path_or_buf, mode, encoding, compression, memory_map, is_text, errors, storage_options)\u001B[0m\n\u001B[1;32m    858\u001B[0m \u001B[38;5;28;01melif\u001B[39;00m \u001B[38;5;28misinstance\u001B[39m(handle, \u001B[38;5;28mstr\u001B[39m):\n\u001B[1;32m    859\u001B[0m     \u001B[38;5;66;03m# Check whether the filename is to be opened in binary mode.\u001B[39;00m\n\u001B[1;32m    860\u001B[0m     \u001B[38;5;66;03m# Binary mode does not support 'encoding' and 'newline'.\u001B[39;00m\n\u001B[1;32m    861\u001B[0m     \u001B[38;5;28;01mif\u001B[39;00m ioargs\u001B[38;5;241m.\u001B[39mencoding \u001B[38;5;129;01mand\u001B[39;00m \u001B[38;5;124m\"\u001B[39m\u001B[38;5;124mb\u001B[39m\u001B[38;5;124m\"\u001B[39m \u001B[38;5;129;01mnot\u001B[39;00m \u001B[38;5;129;01min\u001B[39;00m ioargs\u001B[38;5;241m.\u001B[39mmode:\n\u001B[1;32m    862\u001B[0m         \u001B[38;5;66;03m# Encoding\u001B[39;00m\n\u001B[0;32m--> 863\u001B[0m         handle \u001B[38;5;241m=\u001B[39m \u001B[38;5;28;43mopen\u001B[39;49m\u001B[43m(\u001B[49m\n\u001B[1;32m    864\u001B[0m \u001B[43m            \u001B[49m\u001B[43mhandle\u001B[49m\u001B[43m,\u001B[49m\n\u001B[1;32m    865\u001B[0m \u001B[43m            \u001B[49m\u001B[43mioargs\u001B[49m\u001B[38;5;241;43m.\u001B[39;49m\u001B[43mmode\u001B[49m\u001B[43m,\u001B[49m\n\u001B[1;32m    866\u001B[0m \u001B[43m            \u001B[49m\u001B[43mencoding\u001B[49m\u001B[38;5;241;43m=\u001B[39;49m\u001B[43mioargs\u001B[49m\u001B[38;5;241;43m.\u001B[39;49m\u001B[43mencoding\u001B[49m\u001B[43m,\u001B[49m\n\u001B[1;32m    867\u001B[0m \u001B[43m            \u001B[49m\u001B[43merrors\u001B[49m\u001B[38;5;241;43m=\u001B[39;49m\u001B[43merrors\u001B[49m\u001B[43m,\u001B[49m\n\u001B[1;32m    868\u001B[0m \u001B[43m            \u001B[49m\u001B[43mnewline\u001B[49m\u001B[38;5;241;43m=\u001B[39;49m\u001B[38;5;124;43m\"\u001B[39;49m\u001B[38;5;124;43m\"\u001B[39;49m\u001B[43m,\u001B[49m\n\u001B[1;32m    869\u001B[0m \u001B[43m        \u001B[49m\u001B[43m)\u001B[49m\n\u001B[1;32m    870\u001B[0m     \u001B[38;5;28;01melse\u001B[39;00m:\n\u001B[1;32m    871\u001B[0m         \u001B[38;5;66;03m# Binary mode\u001B[39;00m\n\u001B[1;32m    872\u001B[0m         handle \u001B[38;5;241m=\u001B[39m \u001B[38;5;28mopen\u001B[39m(handle, ioargs\u001B[38;5;241m.\u001B[39mmode)\n",
      "\u001B[0;31mFileNotFoundError\u001B[0m: [Errno 2] No such file or directory: 'data/exxample_data.csv'"
     ]
    }
   ],
   "source": [
    "df3 = pd.read_csv('data/exxample_data.csv', index_col=0, header=0, sep=',')"
   ],
   "metadata": {
    "collapsed": false,
    "ExecuteTime": {
     "end_time": "2024-02-07T20:11:50.989609479Z",
     "start_time": "2024-02-07T20:11:50.610461503Z"
    }
   },
   "id": "f653c1f5cc717e1d",
   "execution_count": 14
  },
  {
   "cell_type": "markdown",
   "source": [
    "### save the dataframe to a csv file"
   ],
   "metadata": {
    "collapsed": false
   },
   "id": "f74ee1ce645b3f97"
  },
  {
   "cell_type": "code",
   "outputs": [],
   "source": [
    "df3.to_csv('data/example_data.csv')"
   ],
   "metadata": {
    "collapsed": false,
    "ExecuteTime": {
     "start_time": "2024-02-07T20:11:50.989007623Z"
    }
   },
   "id": "9c85ebf77cea4493",
   "execution_count": null
  },
  {
   "cell_type": "markdown",
   "source": [
    "## Missing data"
   ],
   "metadata": {
    "collapsed": false
   },
   "id": "827b119846ef75ce"
  },
  {
   "cell_type": "code",
   "outputs": [
    {
     "data": {
      "text/plain": "          A         B         C         D         E\n0       NaN       NaN       NaN       NaN -0.455692\n1 -0.847524 -0.539101  0.039715  0.062924  0.063662\n2  0.616525  0.341849 -1.020932 -1.125998 -1.060317\n3  1.987212       NaN  0.658694  0.703849  1.034852\n4  0.481938 -1.527169       NaN  0.983536  0.062352\n5       NaN -0.370082 -0.045308  0.480935  0.338193\n6 -0.388989       NaN -1.381707       NaN  1.075858\n7 -1.039196  0.228237 -2.107756 -1.272633 -0.837189\n8 -0.654426 -0.847466       NaN -1.142761 -0.133406\n9  1.343383       NaN  1.898495  0.723508  0.163324",
      "text/html": "<div>\n<style scoped>\n    .dataframe tbody tr th:only-of-type {\n        vertical-align: middle;\n    }\n\n    .dataframe tbody tr th {\n        vertical-align: top;\n    }\n\n    .dataframe thead th {\n        text-align: right;\n    }\n</style>\n<table border=\"1\" class=\"dataframe\">\n  <thead>\n    <tr style=\"text-align: right;\">\n      <th></th>\n      <th>A</th>\n      <th>B</th>\n      <th>C</th>\n      <th>D</th>\n      <th>E</th>\n    </tr>\n  </thead>\n  <tbody>\n    <tr>\n      <th>0</th>\n      <td>NaN</td>\n      <td>NaN</td>\n      <td>NaN</td>\n      <td>NaN</td>\n      <td>-0.455692</td>\n    </tr>\n    <tr>\n      <th>1</th>\n      <td>-0.847524</td>\n      <td>-0.539101</td>\n      <td>0.039715</td>\n      <td>0.062924</td>\n      <td>0.063662</td>\n    </tr>\n    <tr>\n      <th>2</th>\n      <td>0.616525</td>\n      <td>0.341849</td>\n      <td>-1.020932</td>\n      <td>-1.125998</td>\n      <td>-1.060317</td>\n    </tr>\n    <tr>\n      <th>3</th>\n      <td>1.987212</td>\n      <td>NaN</td>\n      <td>0.658694</td>\n      <td>0.703849</td>\n      <td>1.034852</td>\n    </tr>\n    <tr>\n      <th>4</th>\n      <td>0.481938</td>\n      <td>-1.527169</td>\n      <td>NaN</td>\n      <td>0.983536</td>\n      <td>0.062352</td>\n    </tr>\n    <tr>\n      <th>5</th>\n      <td>NaN</td>\n      <td>-0.370082</td>\n      <td>-0.045308</td>\n      <td>0.480935</td>\n      <td>0.338193</td>\n    </tr>\n    <tr>\n      <th>6</th>\n      <td>-0.388989</td>\n      <td>NaN</td>\n      <td>-1.381707</td>\n      <td>NaN</td>\n      <td>1.075858</td>\n    </tr>\n    <tr>\n      <th>7</th>\n      <td>-1.039196</td>\n      <td>0.228237</td>\n      <td>-2.107756</td>\n      <td>-1.272633</td>\n      <td>-0.837189</td>\n    </tr>\n    <tr>\n      <th>8</th>\n      <td>-0.654426</td>\n      <td>-0.847466</td>\n      <td>NaN</td>\n      <td>-1.142761</td>\n      <td>-0.133406</td>\n    </tr>\n    <tr>\n      <th>9</th>\n      <td>1.343383</td>\n      <td>NaN</td>\n      <td>1.898495</td>\n      <td>0.723508</td>\n      <td>0.163324</td>\n    </tr>\n  </tbody>\n</table>\n</div>"
     },
     "execution_count": 15,
     "metadata": {},
     "output_type": "execute_result"
    }
   ],
   "source": [
    "# create a dataframe with missing data (150 samples and 5 features)\n",
    "df_missing = pd.DataFrame(np.random.randn(150, 5), columns=['A', 'B', 'C', 'D', 'E'])\n",
    "# random missing values in different columns\n",
    "df_missing.loc[::5, 'A'] = np.nan # every 5th value in column A is missing\n",
    "df_missing.loc[::3, 'B'] = np.nan # every 3rd value in column B is missing\n",
    "df_missing.loc[::4, 'C'] = np.nan # every 4th value in column C is missing\n",
    "df_missing.loc[::6, 'D'] = np.nan # every 6th value in column D is missing\n",
    "\n",
    "df_missing.head(10)"
   ],
   "metadata": {
    "collapsed": false,
    "ExecuteTime": {
     "end_time": "2024-02-07T20:11:51.358036596Z",
     "start_time": "2024-02-07T20:11:51.302086880Z"
    }
   },
   "id": "51e325d57965f1f3",
   "execution_count": 15
  },
  {
   "cell_type": "markdown",
   "source": [
    "### check the missing values"
   ],
   "metadata": {
    "collapsed": false
   },
   "id": "36cf5a0cadf47c3c"
  },
  {
   "cell_type": "code",
   "outputs": [
    {
     "data": {
      "text/plain": "A    30\nB    50\nC    38\nD    25\nE     0\ndtype: int64"
     },
     "execution_count": 16,
     "metadata": {},
     "output_type": "execute_result"
    }
   ],
   "source": [
    "df_missing.isnull().sum()"
   ],
   "metadata": {
    "collapsed": false,
    "ExecuteTime": {
     "end_time": "2024-02-07T20:11:51.713467821Z",
     "start_time": "2024-02-07T20:11:51.648545645Z"
    }
   },
   "id": "bc5a920de930c84e",
   "execution_count": 16
  },
  {
   "cell_type": "markdown",
   "source": [
    "### drop the rows with missing values"
   ],
   "metadata": {
    "collapsed": false
   },
   "id": "3b953fe60edd3e94"
  },
  {
   "cell_type": "code",
   "outputs": [
    {
     "data": {
      "text/plain": "           A         B         C         D         E\n1  -0.847524 -0.539101  0.039715  0.062924  0.063662\n2   0.616525  0.341849 -1.020932 -1.125998 -1.060317\n7  -1.039196  0.228237 -2.107756 -1.272633 -0.837189\n11 -1.675578  0.796555  1.342759 -0.102713 -0.398467\n13  0.283476 -0.596936  0.864663 -0.964457  0.672835\n14  1.556229  0.893049 -0.422731 -1.806348  2.670318\n17  1.625067 -1.460898 -0.555522  0.221300 -0.813732\n19 -0.861862  1.318282 -0.702961  0.220646 -0.267139\n22  0.175287  0.672433 -1.021211  0.943533 -0.055009\n23 -0.494689  0.358090 -1.329082  1.241389 -0.801836",
      "text/html": "<div>\n<style scoped>\n    .dataframe tbody tr th:only-of-type {\n        vertical-align: middle;\n    }\n\n    .dataframe tbody tr th {\n        vertical-align: top;\n    }\n\n    .dataframe thead th {\n        text-align: right;\n    }\n</style>\n<table border=\"1\" class=\"dataframe\">\n  <thead>\n    <tr style=\"text-align: right;\">\n      <th></th>\n      <th>A</th>\n      <th>B</th>\n      <th>C</th>\n      <th>D</th>\n      <th>E</th>\n    </tr>\n  </thead>\n  <tbody>\n    <tr>\n      <th>1</th>\n      <td>-0.847524</td>\n      <td>-0.539101</td>\n      <td>0.039715</td>\n      <td>0.062924</td>\n      <td>0.063662</td>\n    </tr>\n    <tr>\n      <th>2</th>\n      <td>0.616525</td>\n      <td>0.341849</td>\n      <td>-1.020932</td>\n      <td>-1.125998</td>\n      <td>-1.060317</td>\n    </tr>\n    <tr>\n      <th>7</th>\n      <td>-1.039196</td>\n      <td>0.228237</td>\n      <td>-2.107756</td>\n      <td>-1.272633</td>\n      <td>-0.837189</td>\n    </tr>\n    <tr>\n      <th>11</th>\n      <td>-1.675578</td>\n      <td>0.796555</td>\n      <td>1.342759</td>\n      <td>-0.102713</td>\n      <td>-0.398467</td>\n    </tr>\n    <tr>\n      <th>13</th>\n      <td>0.283476</td>\n      <td>-0.596936</td>\n      <td>0.864663</td>\n      <td>-0.964457</td>\n      <td>0.672835</td>\n    </tr>\n    <tr>\n      <th>14</th>\n      <td>1.556229</td>\n      <td>0.893049</td>\n      <td>-0.422731</td>\n      <td>-1.806348</td>\n      <td>2.670318</td>\n    </tr>\n    <tr>\n      <th>17</th>\n      <td>1.625067</td>\n      <td>-1.460898</td>\n      <td>-0.555522</td>\n      <td>0.221300</td>\n      <td>-0.813732</td>\n    </tr>\n    <tr>\n      <th>19</th>\n      <td>-0.861862</td>\n      <td>1.318282</td>\n      <td>-0.702961</td>\n      <td>0.220646</td>\n      <td>-0.267139</td>\n    </tr>\n    <tr>\n      <th>22</th>\n      <td>0.175287</td>\n      <td>0.672433</td>\n      <td>-1.021211</td>\n      <td>0.943533</td>\n      <td>-0.055009</td>\n    </tr>\n    <tr>\n      <th>23</th>\n      <td>-0.494689</td>\n      <td>0.358090</td>\n      <td>-1.329082</td>\n      <td>1.241389</td>\n      <td>-0.801836</td>\n    </tr>\n  </tbody>\n</table>\n</div>"
     },
     "execution_count": 17,
     "metadata": {},
     "output_type": "execute_result"
    }
   ],
   "source": [
    "df_missing2 = df_missing.copy()\n",
    "df_missing2.dropna(inplace=True)\n",
    "df_missing2.head(10)"
   ],
   "metadata": {
    "collapsed": false,
    "ExecuteTime": {
     "end_time": "2024-02-07T20:11:52.070599764Z",
     "start_time": "2024-02-07T20:11:52.038612985Z"
    }
   },
   "id": "57a9d8d5a2c9c492",
   "execution_count": 17
  },
  {
   "cell_type": "code",
   "outputs": [
    {
     "data": {
      "text/plain": "A    0\nB    0\nC    0\nD    0\nE    0\ndtype: int64"
     },
     "execution_count": 18,
     "metadata": {},
     "output_type": "execute_result"
    }
   ],
   "source": [
    "df_missing2.isnull().sum()"
   ],
   "metadata": {
    "collapsed": false,
    "ExecuteTime": {
     "end_time": "2024-02-07T20:11:52.471957136Z",
     "start_time": "2024-02-07T20:11:52.463920521Z"
    }
   },
   "id": "fe02c93e2a49d173",
   "execution_count": 18
  },
  {
   "cell_type": "code",
   "outputs": [
    {
     "data": {
      "text/plain": "(60, 5)"
     },
     "execution_count": 19,
     "metadata": {},
     "output_type": "execute_result"
    }
   ],
   "source": [
    "df_missing2.shape"
   ],
   "metadata": {
    "collapsed": false,
    "ExecuteTime": {
     "end_time": "2024-02-07T20:11:52.927511280Z",
     "start_time": "2024-02-07T20:11:52.900586016Z"
    }
   },
   "id": "efb7e2d031e5db60",
   "execution_count": 19
  },
  {
   "cell_type": "markdown",
   "source": [
    "### fill the missing values with the mean of the column"
   ],
   "metadata": {
    "collapsed": false
   },
   "id": "3824a7bb0202a8fc"
  },
  {
   "cell_type": "code",
   "outputs": [],
   "source": [
    "df_missing3 = df_missing.copy()\n",
    "df_missing3.fillna(df_missing3.mean(), inplace=True) \n",
    "# for the median, mode or a specific values use df_missing3.median(), df_missing3.mode() or df_missing3.fillna(0)"
   ],
   "metadata": {
    "collapsed": false,
    "ExecuteTime": {
     "end_time": "2024-02-07T20:11:53.554500495Z",
     "start_time": "2024-02-07T20:11:53.549865906Z"
    }
   },
   "id": "c3e47b835cfcac7e",
   "execution_count": 20
  },
  {
   "cell_type": "code",
   "outputs": [
    {
     "data": {
      "text/plain": "          A         B         C         D         E\n0  0.055540  0.128041 -0.025071  0.081219 -0.455692\n1 -0.847524 -0.539101  0.039715  0.062924  0.063662\n2  0.616525  0.341849 -1.020932 -1.125998 -1.060317\n3  1.987212  0.128041  0.658694  0.703849  1.034852\n4  0.481938 -1.527169 -0.025071  0.983536  0.062352\n5  0.055540 -0.370082 -0.045308  0.480935  0.338193\n6 -0.388989  0.128041 -1.381707  0.081219  1.075858\n7 -1.039196  0.228237 -2.107756 -1.272633 -0.837189\n8 -0.654426 -0.847466 -0.025071 -1.142761 -0.133406\n9  1.343383  0.128041  1.898495  0.723508  0.163324",
      "text/html": "<div>\n<style scoped>\n    .dataframe tbody tr th:only-of-type {\n        vertical-align: middle;\n    }\n\n    .dataframe tbody tr th {\n        vertical-align: top;\n    }\n\n    .dataframe thead th {\n        text-align: right;\n    }\n</style>\n<table border=\"1\" class=\"dataframe\">\n  <thead>\n    <tr style=\"text-align: right;\">\n      <th></th>\n      <th>A</th>\n      <th>B</th>\n      <th>C</th>\n      <th>D</th>\n      <th>E</th>\n    </tr>\n  </thead>\n  <tbody>\n    <tr>\n      <th>0</th>\n      <td>0.055540</td>\n      <td>0.128041</td>\n      <td>-0.025071</td>\n      <td>0.081219</td>\n      <td>-0.455692</td>\n    </tr>\n    <tr>\n      <th>1</th>\n      <td>-0.847524</td>\n      <td>-0.539101</td>\n      <td>0.039715</td>\n      <td>0.062924</td>\n      <td>0.063662</td>\n    </tr>\n    <tr>\n      <th>2</th>\n      <td>0.616525</td>\n      <td>0.341849</td>\n      <td>-1.020932</td>\n      <td>-1.125998</td>\n      <td>-1.060317</td>\n    </tr>\n    <tr>\n      <th>3</th>\n      <td>1.987212</td>\n      <td>0.128041</td>\n      <td>0.658694</td>\n      <td>0.703849</td>\n      <td>1.034852</td>\n    </tr>\n    <tr>\n      <th>4</th>\n      <td>0.481938</td>\n      <td>-1.527169</td>\n      <td>-0.025071</td>\n      <td>0.983536</td>\n      <td>0.062352</td>\n    </tr>\n    <tr>\n      <th>5</th>\n      <td>0.055540</td>\n      <td>-0.370082</td>\n      <td>-0.045308</td>\n      <td>0.480935</td>\n      <td>0.338193</td>\n    </tr>\n    <tr>\n      <th>6</th>\n      <td>-0.388989</td>\n      <td>0.128041</td>\n      <td>-1.381707</td>\n      <td>0.081219</td>\n      <td>1.075858</td>\n    </tr>\n    <tr>\n      <th>7</th>\n      <td>-1.039196</td>\n      <td>0.228237</td>\n      <td>-2.107756</td>\n      <td>-1.272633</td>\n      <td>-0.837189</td>\n    </tr>\n    <tr>\n      <th>8</th>\n      <td>-0.654426</td>\n      <td>-0.847466</td>\n      <td>-0.025071</td>\n      <td>-1.142761</td>\n      <td>-0.133406</td>\n    </tr>\n    <tr>\n      <th>9</th>\n      <td>1.343383</td>\n      <td>0.128041</td>\n      <td>1.898495</td>\n      <td>0.723508</td>\n      <td>0.163324</td>\n    </tr>\n  </tbody>\n</table>\n</div>"
     },
     "execution_count": 21,
     "metadata": {},
     "output_type": "execute_result"
    }
   ],
   "source": [
    "df_missing3.head(10)"
   ],
   "metadata": {
    "collapsed": false,
    "ExecuteTime": {
     "end_time": "2024-02-07T20:11:53.849598209Z",
     "start_time": "2024-02-07T20:11:53.819883868Z"
    }
   },
   "id": "1115ba541536ee13",
   "execution_count": 21
  },
  {
   "cell_type": "code",
   "outputs": [
    {
     "data": {
      "text/plain": "A    0\nB    0\nC    0\nD    0\nE    0\ndtype: int64"
     },
     "execution_count": 22,
     "metadata": {},
     "output_type": "execute_result"
    }
   ],
   "source": [
    "df_missing3.isnull().sum()"
   ],
   "metadata": {
    "collapsed": false,
    "ExecuteTime": {
     "end_time": "2024-02-07T20:11:54.240718484Z",
     "start_time": "2024-02-07T20:11:54.235426356Z"
    }
   },
   "id": "8eecccd9e494bfa1",
   "execution_count": 22
  },
  {
   "cell_type": "code",
   "outputs": [
    {
     "data": {
      "text/plain": "(150, 5)"
     },
     "execution_count": 23,
     "metadata": {},
     "output_type": "execute_result"
    }
   ],
   "source": [
    "df_missing3.shape"
   ],
   "metadata": {
    "collapsed": false,
    "ExecuteTime": {
     "end_time": "2024-02-07T20:11:54.736354393Z",
     "start_time": "2024-02-07T20:11:54.724179698Z"
    }
   },
   "id": "ce6dd370613d552a",
   "execution_count": 23
  },
  {
   "cell_type": "code",
   "outputs": [
    {
     "data": {
      "text/plain": "                A           B           C           D           E\ncount  150.000000  150.000000  150.000000  150.000000  150.000000\nmean     0.055540    0.128041   -0.025071    0.081219    0.040525\nstd      0.867819    0.818251    0.933839    0.869466    0.960444\nmin     -2.154478   -2.729418   -3.179536   -2.337839   -2.236438\n25%     -0.387863   -0.189987   -0.480136   -0.298749   -0.601209\n50%      0.055540    0.128041   -0.025071    0.081219    0.018553\n75%      0.566340    0.486843    0.346621    0.589297    0.671198\nmax      2.573037    2.728873    2.714967    2.930326    2.670318",
      "text/html": "<div>\n<style scoped>\n    .dataframe tbody tr th:only-of-type {\n        vertical-align: middle;\n    }\n\n    .dataframe tbody tr th {\n        vertical-align: top;\n    }\n\n    .dataframe thead th {\n        text-align: right;\n    }\n</style>\n<table border=\"1\" class=\"dataframe\">\n  <thead>\n    <tr style=\"text-align: right;\">\n      <th></th>\n      <th>A</th>\n      <th>B</th>\n      <th>C</th>\n      <th>D</th>\n      <th>E</th>\n    </tr>\n  </thead>\n  <tbody>\n    <tr>\n      <th>count</th>\n      <td>150.000000</td>\n      <td>150.000000</td>\n      <td>150.000000</td>\n      <td>150.000000</td>\n      <td>150.000000</td>\n    </tr>\n    <tr>\n      <th>mean</th>\n      <td>0.055540</td>\n      <td>0.128041</td>\n      <td>-0.025071</td>\n      <td>0.081219</td>\n      <td>0.040525</td>\n    </tr>\n    <tr>\n      <th>std</th>\n      <td>0.867819</td>\n      <td>0.818251</td>\n      <td>0.933839</td>\n      <td>0.869466</td>\n      <td>0.960444</td>\n    </tr>\n    <tr>\n      <th>min</th>\n      <td>-2.154478</td>\n      <td>-2.729418</td>\n      <td>-3.179536</td>\n      <td>-2.337839</td>\n      <td>-2.236438</td>\n    </tr>\n    <tr>\n      <th>25%</th>\n      <td>-0.387863</td>\n      <td>-0.189987</td>\n      <td>-0.480136</td>\n      <td>-0.298749</td>\n      <td>-0.601209</td>\n    </tr>\n    <tr>\n      <th>50%</th>\n      <td>0.055540</td>\n      <td>0.128041</td>\n      <td>-0.025071</td>\n      <td>0.081219</td>\n      <td>0.018553</td>\n    </tr>\n    <tr>\n      <th>75%</th>\n      <td>0.566340</td>\n      <td>0.486843</td>\n      <td>0.346621</td>\n      <td>0.589297</td>\n      <td>0.671198</td>\n    </tr>\n    <tr>\n      <th>max</th>\n      <td>2.573037</td>\n      <td>2.728873</td>\n      <td>2.714967</td>\n      <td>2.930326</td>\n      <td>2.670318</td>\n    </tr>\n  </tbody>\n</table>\n</div>"
     },
     "execution_count": 24,
     "metadata": {},
     "output_type": "execute_result"
    }
   ],
   "source": [
    "df_missing3.describe()"
   ],
   "metadata": {
    "collapsed": false,
    "ExecuteTime": {
     "end_time": "2024-02-07T20:11:55.139197865Z",
     "start_time": "2024-02-07T20:11:55.112224581Z"
    }
   },
   "id": "c34cb735a29a6ea7",
   "execution_count": 24
  },
  {
   "cell_type": "markdown",
   "source": [
    "# Data inputation with sklearn"
   ],
   "metadata": {
    "collapsed": false
   },
   "id": "6ff2e007863d7cc2"
  },
  {
   "cell_type": "code",
   "outputs": [],
   "source": [
    "from sklearn.impute import SimpleImputer, KNNImputer"
   ],
   "metadata": {
    "collapsed": false,
    "ExecuteTime": {
     "end_time": "2024-02-07T20:11:56.712212836Z",
     "start_time": "2024-02-07T20:11:56.000747406Z"
    }
   },
   "id": "b6cc913d35915f45",
   "execution_count": 25
  },
  {
   "cell_type": "code",
   "outputs": [],
   "source": [
    "df_sklearn = df_missing.copy()"
   ],
   "metadata": {
    "collapsed": false,
    "ExecuteTime": {
     "end_time": "2024-02-07T20:11:56.757430432Z",
     "start_time": "2024-02-07T20:11:56.713781513Z"
    }
   },
   "id": "191a601f083b8767",
   "execution_count": 26
  },
  {
   "cell_type": "markdown",
   "source": [
    "### SimpleImputer is a basic strategy to impute missing values using the mean, median or most frequent value of the column"
   ],
   "metadata": {
    "collapsed": false
   },
   "id": "70320f7b41150970"
  },
  {
   "cell_type": "code",
   "outputs": [
    {
     "data": {
      "text/plain": "            A         B         C         D         E\n0    0.055540  0.128041 -0.025071  0.081219 -0.455692\n1   -0.847524 -0.539101  0.039715  0.062924  0.063662\n2    0.616525  0.341849 -1.020932 -1.125998 -1.060317\n3    1.987212  0.128041  0.658694  0.703849  1.034852\n4    0.481938 -1.527169 -0.025071  0.983536  0.062352\n..        ...       ...       ...       ...       ...\n145  0.055540  0.065341 -1.279443 -2.184804 -0.073396\n146  0.427174 -0.197033 -0.402172 -0.287067 -0.358000\n147 -0.606441  0.128041 -1.262994 -0.364245  0.202697\n148  0.500573  0.449947 -0.025071  0.297096  1.465195\n149 -0.238047  0.873605 -0.637022  1.362326  0.582715\n\n[150 rows x 5 columns]",
      "text/html": "<div>\n<style scoped>\n    .dataframe tbody tr th:only-of-type {\n        vertical-align: middle;\n    }\n\n    .dataframe tbody tr th {\n        vertical-align: top;\n    }\n\n    .dataframe thead th {\n        text-align: right;\n    }\n</style>\n<table border=\"1\" class=\"dataframe\">\n  <thead>\n    <tr style=\"text-align: right;\">\n      <th></th>\n      <th>A</th>\n      <th>B</th>\n      <th>C</th>\n      <th>D</th>\n      <th>E</th>\n    </tr>\n  </thead>\n  <tbody>\n    <tr>\n      <th>0</th>\n      <td>0.055540</td>\n      <td>0.128041</td>\n      <td>-0.025071</td>\n      <td>0.081219</td>\n      <td>-0.455692</td>\n    </tr>\n    <tr>\n      <th>1</th>\n      <td>-0.847524</td>\n      <td>-0.539101</td>\n      <td>0.039715</td>\n      <td>0.062924</td>\n      <td>0.063662</td>\n    </tr>\n    <tr>\n      <th>2</th>\n      <td>0.616525</td>\n      <td>0.341849</td>\n      <td>-1.020932</td>\n      <td>-1.125998</td>\n      <td>-1.060317</td>\n    </tr>\n    <tr>\n      <th>3</th>\n      <td>1.987212</td>\n      <td>0.128041</td>\n      <td>0.658694</td>\n      <td>0.703849</td>\n      <td>1.034852</td>\n    </tr>\n    <tr>\n      <th>4</th>\n      <td>0.481938</td>\n      <td>-1.527169</td>\n      <td>-0.025071</td>\n      <td>0.983536</td>\n      <td>0.062352</td>\n    </tr>\n    <tr>\n      <th>...</th>\n      <td>...</td>\n      <td>...</td>\n      <td>...</td>\n      <td>...</td>\n      <td>...</td>\n    </tr>\n    <tr>\n      <th>145</th>\n      <td>0.055540</td>\n      <td>0.065341</td>\n      <td>-1.279443</td>\n      <td>-2.184804</td>\n      <td>-0.073396</td>\n    </tr>\n    <tr>\n      <th>146</th>\n      <td>0.427174</td>\n      <td>-0.197033</td>\n      <td>-0.402172</td>\n      <td>-0.287067</td>\n      <td>-0.358000</td>\n    </tr>\n    <tr>\n      <th>147</th>\n      <td>-0.606441</td>\n      <td>0.128041</td>\n      <td>-1.262994</td>\n      <td>-0.364245</td>\n      <td>0.202697</td>\n    </tr>\n    <tr>\n      <th>148</th>\n      <td>0.500573</td>\n      <td>0.449947</td>\n      <td>-0.025071</td>\n      <td>0.297096</td>\n      <td>1.465195</td>\n    </tr>\n    <tr>\n      <th>149</th>\n      <td>-0.238047</td>\n      <td>0.873605</td>\n      <td>-0.637022</td>\n      <td>1.362326</td>\n      <td>0.582715</td>\n    </tr>\n  </tbody>\n</table>\n<p>150 rows × 5 columns</p>\n</div>"
     },
     "execution_count": 27,
     "metadata": {},
     "output_type": "execute_result"
    }
   ],
   "source": [
    "imputer = SimpleImputer(strategy='mean') # or 'median' or 'most_frequent'\n",
    "data_imputed = imputer.fit_transform(df_sklearn)\n",
    "data_imputed = pd.DataFrame(data_imputed, columns=df_sklearn.columns)\n",
    "data_imputed"
   ],
   "metadata": {
    "collapsed": false,
    "ExecuteTime": {
     "end_time": "2024-02-07T20:11:57.117488410Z",
     "start_time": "2024-02-07T20:11:57.086326375Z"
    }
   },
   "id": "fc2516c18a21a513",
   "execution_count": 27
  },
  {
   "cell_type": "code",
   "outputs": [
    {
     "data": {
      "text/plain": "A    0\nB    0\nC    0\nD    0\nE    0\ndtype: int64"
     },
     "execution_count": 28,
     "metadata": {},
     "output_type": "execute_result"
    }
   ],
   "source": [
    "data_imputed.isnull().sum()"
   ],
   "metadata": {
    "collapsed": false,
    "ExecuteTime": {
     "end_time": "2024-02-07T20:11:57.692487950Z",
     "start_time": "2024-02-07T20:11:57.669839424Z"
    }
   },
   "id": "fd603df83d5f4a80",
   "execution_count": 28
  },
  {
   "cell_type": "markdown",
   "source": [
    "## KNNImputer is a more advanced strategy that uses the k-nearest neighbors to impute missing values based on the similarity of the samples in the feature space."
   ],
   "metadata": {
    "collapsed": false
   },
   "id": "28a5ddf144837ec6"
  },
  {
   "cell_type": "code",
   "outputs": [
    {
     "data": {
      "text/plain": "            A         B         C         D         E\n0   -0.788363  0.591292  0.832302  0.063763 -0.455692\n1   -0.847524 -0.539101  0.039715  0.062924  0.063662\n2    0.616525  0.341849 -1.020932 -1.125998 -1.060317\n3    1.987212  0.913885  0.658694  0.703849  1.034852\n4    0.481938 -1.527169 -1.297398  0.983536  0.062352\n..        ...       ...       ...       ...       ...\n145  1.260412  0.065341 -1.279443 -2.184804 -0.073396\n146  0.427174 -0.197033 -0.402172 -0.287067 -0.358000\n147 -0.606441  0.464178 -1.262994 -0.364245  0.202697\n148  0.500573  0.449947  0.777387  0.297096  1.465195\n149 -0.238047  0.873605 -0.637022  1.362326  0.582715\n\n[150 rows x 5 columns]",
      "text/html": "<div>\n<style scoped>\n    .dataframe tbody tr th:only-of-type {\n        vertical-align: middle;\n    }\n\n    .dataframe tbody tr th {\n        vertical-align: top;\n    }\n\n    .dataframe thead th {\n        text-align: right;\n    }\n</style>\n<table border=\"1\" class=\"dataframe\">\n  <thead>\n    <tr style=\"text-align: right;\">\n      <th></th>\n      <th>A</th>\n      <th>B</th>\n      <th>C</th>\n      <th>D</th>\n      <th>E</th>\n    </tr>\n  </thead>\n  <tbody>\n    <tr>\n      <th>0</th>\n      <td>-0.788363</td>\n      <td>0.591292</td>\n      <td>0.832302</td>\n      <td>0.063763</td>\n      <td>-0.455692</td>\n    </tr>\n    <tr>\n      <th>1</th>\n      <td>-0.847524</td>\n      <td>-0.539101</td>\n      <td>0.039715</td>\n      <td>0.062924</td>\n      <td>0.063662</td>\n    </tr>\n    <tr>\n      <th>2</th>\n      <td>0.616525</td>\n      <td>0.341849</td>\n      <td>-1.020932</td>\n      <td>-1.125998</td>\n      <td>-1.060317</td>\n    </tr>\n    <tr>\n      <th>3</th>\n      <td>1.987212</td>\n      <td>0.913885</td>\n      <td>0.658694</td>\n      <td>0.703849</td>\n      <td>1.034852</td>\n    </tr>\n    <tr>\n      <th>4</th>\n      <td>0.481938</td>\n      <td>-1.527169</td>\n      <td>-1.297398</td>\n      <td>0.983536</td>\n      <td>0.062352</td>\n    </tr>\n    <tr>\n      <th>...</th>\n      <td>...</td>\n      <td>...</td>\n      <td>...</td>\n      <td>...</td>\n      <td>...</td>\n    </tr>\n    <tr>\n      <th>145</th>\n      <td>1.260412</td>\n      <td>0.065341</td>\n      <td>-1.279443</td>\n      <td>-2.184804</td>\n      <td>-0.073396</td>\n    </tr>\n    <tr>\n      <th>146</th>\n      <td>0.427174</td>\n      <td>-0.197033</td>\n      <td>-0.402172</td>\n      <td>-0.287067</td>\n      <td>-0.358000</td>\n    </tr>\n    <tr>\n      <th>147</th>\n      <td>-0.606441</td>\n      <td>0.464178</td>\n      <td>-1.262994</td>\n      <td>-0.364245</td>\n      <td>0.202697</td>\n    </tr>\n    <tr>\n      <th>148</th>\n      <td>0.500573</td>\n      <td>0.449947</td>\n      <td>0.777387</td>\n      <td>0.297096</td>\n      <td>1.465195</td>\n    </tr>\n    <tr>\n      <th>149</th>\n      <td>-0.238047</td>\n      <td>0.873605</td>\n      <td>-0.637022</td>\n      <td>1.362326</td>\n      <td>0.582715</td>\n    </tr>\n  </tbody>\n</table>\n<p>150 rows × 5 columns</p>\n</div>"
     },
     "execution_count": 29,
     "metadata": {},
     "output_type": "execute_result"
    }
   ],
   "source": [
    "knn_imputer = KNNImputer(n_neighbors=3)\n",
    "fake_y = np.random.randint(0, 2, size=(150, 1))\n",
    "data_imputed = knn_imputer.fit_transform(df_sklearn, fake_y)\n",
    "data_imputed = pd.DataFrame(data_imputed, columns=df_sklearn.columns)\n",
    "data_imputed"
   ],
   "metadata": {
    "collapsed": false,
    "ExecuteTime": {
     "end_time": "2024-02-07T20:13:04.362369072Z",
     "start_time": "2024-02-07T20:13:04.333051088Z"
    }
   },
   "id": "bd8c4611576acbc9",
   "execution_count": 29
  },
  {
   "cell_type": "code",
   "outputs": [
    {
     "data": {
      "text/plain": "A    0\nB    0\nC    0\nD    0\nE    0\ndtype: int64"
     },
     "execution_count": 30,
     "metadata": {},
     "output_type": "execute_result"
    }
   ],
   "source": [
    "data_imputed.isnull().sum()"
   ],
   "metadata": {
    "collapsed": false,
    "ExecuteTime": {
     "end_time": "2024-02-07T20:13:06.745366525Z",
     "start_time": "2024-02-07T20:13:06.724015300Z"
    }
   },
   "id": "3cdafd4c446a58b9",
   "execution_count": 30
  },
  {
   "cell_type": "code",
   "outputs": [
    {
     "data": {
      "text/plain": "                A           B           C           D           E\ncount  150.000000  150.000000  150.000000  150.000000  150.000000\nmean     0.083549    0.177379   -0.013362    0.069204    0.040525\nstd      0.901625    0.876712    1.008644    0.887972    0.960444\nmin     -2.154478   -2.729418   -3.179536   -2.337839   -2.236438\n25%     -0.469098   -0.435807   -0.671349   -0.402090   -0.601209\n50%      0.086526    0.223587   -0.005537    0.088170    0.018553\n75%      0.642184    0.705108    0.697636    0.637274    0.671198\nmax      2.573037    2.728873    2.714967    2.930326    2.670318",
      "text/html": "<div>\n<style scoped>\n    .dataframe tbody tr th:only-of-type {\n        vertical-align: middle;\n    }\n\n    .dataframe tbody tr th {\n        vertical-align: top;\n    }\n\n    .dataframe thead th {\n        text-align: right;\n    }\n</style>\n<table border=\"1\" class=\"dataframe\">\n  <thead>\n    <tr style=\"text-align: right;\">\n      <th></th>\n      <th>A</th>\n      <th>B</th>\n      <th>C</th>\n      <th>D</th>\n      <th>E</th>\n    </tr>\n  </thead>\n  <tbody>\n    <tr>\n      <th>count</th>\n      <td>150.000000</td>\n      <td>150.000000</td>\n      <td>150.000000</td>\n      <td>150.000000</td>\n      <td>150.000000</td>\n    </tr>\n    <tr>\n      <th>mean</th>\n      <td>0.083549</td>\n      <td>0.177379</td>\n      <td>-0.013362</td>\n      <td>0.069204</td>\n      <td>0.040525</td>\n    </tr>\n    <tr>\n      <th>std</th>\n      <td>0.901625</td>\n      <td>0.876712</td>\n      <td>1.008644</td>\n      <td>0.887972</td>\n      <td>0.960444</td>\n    </tr>\n    <tr>\n      <th>min</th>\n      <td>-2.154478</td>\n      <td>-2.729418</td>\n      <td>-3.179536</td>\n      <td>-2.337839</td>\n      <td>-2.236438</td>\n    </tr>\n    <tr>\n      <th>25%</th>\n      <td>-0.469098</td>\n      <td>-0.435807</td>\n      <td>-0.671349</td>\n      <td>-0.402090</td>\n      <td>-0.601209</td>\n    </tr>\n    <tr>\n      <th>50%</th>\n      <td>0.086526</td>\n      <td>0.223587</td>\n      <td>-0.005537</td>\n      <td>0.088170</td>\n      <td>0.018553</td>\n    </tr>\n    <tr>\n      <th>75%</th>\n      <td>0.642184</td>\n      <td>0.705108</td>\n      <td>0.697636</td>\n      <td>0.637274</td>\n      <td>0.671198</td>\n    </tr>\n    <tr>\n      <th>max</th>\n      <td>2.573037</td>\n      <td>2.728873</td>\n      <td>2.714967</td>\n      <td>2.930326</td>\n      <td>2.670318</td>\n    </tr>\n  </tbody>\n</table>\n</div>"
     },
     "execution_count": 31,
     "metadata": {},
     "output_type": "execute_result"
    }
   ],
   "source": [
    "data_imputed.describe()"
   ],
   "metadata": {
    "collapsed": false,
    "ExecuteTime": {
     "end_time": "2024-02-07T20:13:08.442993758Z",
     "start_time": "2024-02-07T20:13:08.414904340Z"
    }
   },
   "id": "8943f4d6d15bfaad",
   "execution_count": 31
  },
  {
   "cell_type": "code",
   "outputs": [],
   "source": [],
   "metadata": {
    "collapsed": false
   },
   "id": "bf813da86d691dae"
  }
 ],
 "metadata": {
  "kernelspec": {
   "display_name": "Python 3",
   "language": "python",
   "name": "python3"
  },
  "language_info": {
   "codemirror_mode": {
    "name": "ipython",
    "version": 2
   },
   "file_extension": ".py",
   "mimetype": "text/x-python",
   "name": "python",
   "nbconvert_exporter": "python",
   "pygments_lexer": "ipython2",
   "version": "2.7.6"
  }
 },
 "nbformat": 4,
 "nbformat_minor": 5
}
