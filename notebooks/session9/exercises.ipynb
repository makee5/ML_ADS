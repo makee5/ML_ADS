{
 "cells": [
  {
   "cell_type": "markdown",
   "source": [
    "## Load the iris dataset (scaled)"
   ],
   "metadata": {
    "collapsed": false
   },
   "id": "c39ef8bef83746f1"
  },
  {
   "cell_type": "code",
   "outputs": [
    {
     "data": {
      "text/plain": "     Sepal.Length  Sepal.Width  Petal.Length  Petal.Width    Species\n0       -0.900681     1.019004     -1.340227    -1.315444     setosa\n1       -1.143017    -0.131979     -1.340227    -1.315444     setosa\n2       -1.385353     0.328414     -1.397064    -1.315444     setosa\n3       -1.506521     0.098217     -1.283389    -1.315444     setosa\n4       -1.021849     1.249201     -1.340227    -1.315444     setosa\n..            ...          ...           ...          ...        ...\n145      1.038005    -0.131979      0.819596     1.448832  virginica\n146      0.553333    -1.282963      0.705921     0.922303  virginica\n147      0.795669    -0.131979      0.819596     1.053935  virginica\n148      0.432165     0.788808      0.933271     1.448832  virginica\n149      0.068662    -0.131979      0.762758     0.790671  virginica\n\n[150 rows x 5 columns]",
      "text/html": "<div>\n<style scoped>\n    .dataframe tbody tr th:only-of-type {\n        vertical-align: middle;\n    }\n\n    .dataframe tbody tr th {\n        vertical-align: top;\n    }\n\n    .dataframe thead th {\n        text-align: right;\n    }\n</style>\n<table border=\"1\" class=\"dataframe\">\n  <thead>\n    <tr style=\"text-align: right;\">\n      <th></th>\n      <th>Sepal.Length</th>\n      <th>Sepal.Width</th>\n      <th>Petal.Length</th>\n      <th>Petal.Width</th>\n      <th>Species</th>\n    </tr>\n  </thead>\n  <tbody>\n    <tr>\n      <th>0</th>\n      <td>-0.900681</td>\n      <td>1.019004</td>\n      <td>-1.340227</td>\n      <td>-1.315444</td>\n      <td>setosa</td>\n    </tr>\n    <tr>\n      <th>1</th>\n      <td>-1.143017</td>\n      <td>-0.131979</td>\n      <td>-1.340227</td>\n      <td>-1.315444</td>\n      <td>setosa</td>\n    </tr>\n    <tr>\n      <th>2</th>\n      <td>-1.385353</td>\n      <td>0.328414</td>\n      <td>-1.397064</td>\n      <td>-1.315444</td>\n      <td>setosa</td>\n    </tr>\n    <tr>\n      <th>3</th>\n      <td>-1.506521</td>\n      <td>0.098217</td>\n      <td>-1.283389</td>\n      <td>-1.315444</td>\n      <td>setosa</td>\n    </tr>\n    <tr>\n      <th>4</th>\n      <td>-1.021849</td>\n      <td>1.249201</td>\n      <td>-1.340227</td>\n      <td>-1.315444</td>\n      <td>setosa</td>\n    </tr>\n    <tr>\n      <th>...</th>\n      <td>...</td>\n      <td>...</td>\n      <td>...</td>\n      <td>...</td>\n      <td>...</td>\n    </tr>\n    <tr>\n      <th>145</th>\n      <td>1.038005</td>\n      <td>-0.131979</td>\n      <td>0.819596</td>\n      <td>1.448832</td>\n      <td>virginica</td>\n    </tr>\n    <tr>\n      <th>146</th>\n      <td>0.553333</td>\n      <td>-1.282963</td>\n      <td>0.705921</td>\n      <td>0.922303</td>\n      <td>virginica</td>\n    </tr>\n    <tr>\n      <th>147</th>\n      <td>0.795669</td>\n      <td>-0.131979</td>\n      <td>0.819596</td>\n      <td>1.053935</td>\n      <td>virginica</td>\n    </tr>\n    <tr>\n      <th>148</th>\n      <td>0.432165</td>\n      <td>0.788808</td>\n      <td>0.933271</td>\n      <td>1.448832</td>\n      <td>virginica</td>\n    </tr>\n    <tr>\n      <th>149</th>\n      <td>0.068662</td>\n      <td>-0.131979</td>\n      <td>0.762758</td>\n      <td>0.790671</td>\n      <td>virginica</td>\n    </tr>\n  </tbody>\n</table>\n<p>150 rows × 5 columns</p>\n</div>"
     },
     "execution_count": 4,
     "metadata": {},
     "output_type": "execute_result"
    }
   ],
   "source": [
    "# add code here\n",
    "import pandas as pd \n",
    "iris_df = pd.read_csv('../../datasets/iris.csv')\n",
    "iris_scaled = pd.read_csv('../../datasets/iris_scaled.csv')\n",
    "iris_df\n",
    "iris_scaled"
   ],
   "metadata": {
    "collapsed": false,
    "ExecuteTime": {
     "end_time": "2024-03-07T10:22:22.895830Z",
     "start_time": "2024-03-07T10:22:22.878868Z"
    }
   },
   "id": "770f149be602603a",
   "execution_count": 4
  },
  {
   "cell_type": "markdown",
   "source": [
    "## Split the data into training and test sets "
   ],
   "metadata": {
    "collapsed": false
   },
   "id": "3fd8b216e174360f"
  },
  {
   "cell_type": "code",
   "outputs": [
    {
     "data": {
      "text/plain": "((120, 4), (30, 4), (120,), (30,))"
     },
     "execution_count": 8,
     "metadata": {},
     "output_type": "execute_result"
    }
   ],
   "source": [
    "# add code here\n",
    "from sklearn.model_selection import train_test_split\n",
    "\n",
    "X = iris_scaled.drop('Species', axis=1)\n",
    "y = iris_scaled['Species']\n",
    "\n",
    "X_train, X_test, y_train, y_test = train_test_split(X, y, test_size=0.2, random_state=123)\n",
    "X_train.shape, X_test.shape, y_train.shape, y_test.shape"
   ],
   "metadata": {
    "collapsed": false,
    "ExecuteTime": {
     "end_time": "2024-03-07T10:37:15.660156Z",
     "start_time": "2024-03-07T10:37:15.639496Z"
    }
   },
   "id": "97528dfa109c5baa",
   "execution_count": 8
  },
  {
   "cell_type": "markdown",
   "source": [
    "## Train a KNN classifier\n"
   ],
   "metadata": {
    "collapsed": false
   },
   "id": "fb22f090d011e751"
  },
  {
   "cell_type": "code",
   "outputs": [
    {
     "data": {
      "text/plain": "array(['virginica', 'virginica', 'virginica', 'versicolor', 'setosa',\n       'versicolor', 'versicolor', 'setosa', 'setosa', 'versicolor',\n       'virginica', 'setosa', 'versicolor', 'virginica', 'virginica',\n       'virginica', 'setosa', 'setosa', 'versicolor', 'setosa', 'setosa',\n       'versicolor', 'setosa', 'virginica', 'setosa', 'setosa', 'setosa',\n       'virginica', 'virginica', 'setosa'], dtype=object)"
     },
     "execution_count": 9,
     "metadata": {},
     "output_type": "execute_result"
    }
   ],
   "source": [
    "# add code here\n",
    "from sklearn.neighbors import KNeighborsClassifier\n",
    "\n",
    "knn = KNeighborsClassifier(n_neighbors=3)\n",
    "knn.fit(X_train, y_train)\n",
    "y_pred = knn.predict(X_test)\n",
    "y_pred"
   ],
   "metadata": {
    "collapsed": false,
    "ExecuteTime": {
     "end_time": "2024-03-07T10:37:19.209988Z",
     "start_time": "2024-03-07T10:37:19.201729Z"
    }
   },
   "id": "9a95dae256437d27",
   "execution_count": 9
  },
  {
   "cell_type": "markdown",
   "source": [
    "### Evaluate the model"
   ],
   "metadata": {
    "collapsed": false
   },
   "id": "c8ac297fc10314a2"
  },
  {
   "cell_type": "code",
   "outputs": [
    {
     "name": "stdout",
     "output_type": "stream",
     "text": [
      "0.9\n",
      "              precision    recall  f1-score   support\n",
      "\n",
      "      setosa       1.00      1.00      1.00        13\n",
      "  versicolor       0.71      0.83      0.77         6\n",
      "   virginica       0.90      0.82      0.86        11\n",
      "\n",
      "    accuracy                           0.90        30\n",
      "   macro avg       0.87      0.88      0.88        30\n",
      "weighted avg       0.91      0.90      0.90        30\n"
     ]
    }
   ],
   "source": [
    "# add code here\n",
    "from sklearn.metrics import classification_report, accuracy_score\n",
    "\n",
    "print(accuracy_score(y_test, y_pred))\n",
    "print(classification_report(y_test, y_pred))"
   ],
   "metadata": {
    "collapsed": false,
    "ExecuteTime": {
     "end_time": "2024-03-07T10:40:32.381962Z",
     "start_time": "2024-03-07T10:40:32.380532Z"
    }
   },
   "id": "ffac60e924174e89",
   "execution_count": 10
  },
  {
   "cell_type": "markdown",
   "source": [
    "### Try to compute the optimal value of k"
   ],
   "metadata": {
    "collapsed": false
   },
   "id": "f67f08dfdb9b9a1e"
  },
  {
   "cell_type": "code",
   "outputs": [],
   "source": [
    "# add code here\n"
   ],
   "metadata": {
    "collapsed": false,
    "ExecuteTime": {
     "end_time": "2024-03-06T22:36:58.095447Z",
     "start_time": "2024-03-06T22:36:58.093507Z"
    }
   },
   "id": "d71a7e4bf7c9f83e",
   "execution_count": 6
  },
  {
   "cell_type": "markdown",
   "source": [
    "### Traind and Evaluate the model with the optimal value of k\n"
   ],
   "metadata": {
    "collapsed": false
   },
   "id": "f86c34d0bff487cf"
  },
  {
   "cell_type": "code",
   "outputs": [],
   "source": [
    "# add code here\n"
   ],
   "metadata": {
    "collapsed": false,
    "ExecuteTime": {
     "end_time": "2024-03-06T22:37:18.596744Z",
     "start_time": "2024-03-06T22:37:18.594928Z"
    }
   },
   "id": "542aa9da685bc188",
   "execution_count": 7
  },
  {
   "cell_type": "markdown",
   "source": [
    "## Train a Naive Bayes classifier"
   ],
   "metadata": {
    "collapsed": false
   },
   "id": "9ac96281066b66c7"
  },
  {
   "cell_type": "code",
   "outputs": [],
   "source": [
    "# add code here\n"
   ],
   "metadata": {
    "collapsed": false,
    "ExecuteTime": {
     "end_time": "2024-03-06T22:38:02.770571Z",
     "start_time": "2024-03-06T22:38:02.768499Z"
    }
   },
   "id": "e156f916d1be29b5",
   "execution_count": 9
  },
  {
   "cell_type": "markdown",
   "source": [
    "### Evaluate the model\n"
   ],
   "metadata": {
    "collapsed": false
   },
   "id": "442587f171688f21"
  },
  {
   "cell_type": "code",
   "outputs": [],
   "source": [
    "# add code here\n"
   ],
   "metadata": {
    "collapsed": false,
    "ExecuteTime": {
     "end_time": "2024-03-06T22:38:14.309978Z",
     "start_time": "2024-03-06T22:38:14.307392Z"
    }
   },
   "id": "b4becabf4933adaa",
   "execution_count": 10
  }
 ],
 "metadata": {
  "kernelspec": {
   "display_name": "Python 3",
   "language": "python",
   "name": "python3"
  },
  "language_info": {
   "codemirror_mode": {
    "name": "ipython",
    "version": 2
   },
   "file_extension": ".py",
   "mimetype": "text/x-python",
   "name": "python",
   "nbconvert_exporter": "python",
   "pygments_lexer": "ipython2",
   "version": "2.7.6"
  }
 },
 "nbformat": 4,
 "nbformat_minor": 5
}
