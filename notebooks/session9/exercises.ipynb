{
 "cells": [
  {
   "cell_type": "markdown",
   "source": [
    "## Load the iris dataset (scaled)"
   ],
   "metadata": {
    "collapsed": false
   },
   "id": "c39ef8bef83746f1"
  },
  {
   "cell_type": "code",
   "outputs": [],
   "source": [
    "# add code here\n"
   ],
   "metadata": {
    "collapsed": false,
    "ExecuteTime": {
     "end_time": "2024-03-06T22:34:10.215606Z",
     "start_time": "2024-03-06T22:34:10.213297Z"
    }
   },
   "id": "770f149be602603a",
   "execution_count": 1
  },
  {
   "cell_type": "markdown",
   "source": [
    "## Split the data into training and test sets "
   ],
   "metadata": {
    "collapsed": false
   },
   "id": "3fd8b216e174360f"
  },
  {
   "cell_type": "code",
   "outputs": [],
   "source": [
    "# add code here\n"
   ],
   "metadata": {
    "collapsed": false,
    "ExecuteTime": {
     "end_time": "2024-03-06T22:35:40.437868Z",
     "start_time": "2024-03-06T22:35:40.435628Z"
    }
   },
   "id": "97528dfa109c5baa",
   "execution_count": 2
  },
  {
   "cell_type": "markdown",
   "source": [
    "## Train a KNN classifier\n"
   ],
   "metadata": {
    "collapsed": false
   },
   "id": "fb22f090d011e751"
  },
  {
   "cell_type": "code",
   "outputs": [],
   "source": [
    "# add code here\n"
   ],
   "metadata": {
    "collapsed": false,
    "ExecuteTime": {
     "end_time": "2024-03-06T22:35:58.753585Z",
     "start_time": "2024-03-06T22:35:58.751701Z"
    }
   },
   "id": "9a95dae256437d27",
   "execution_count": 3
  },
  {
   "cell_type": "markdown",
   "source": [
    "### Evaluate the model"
   ],
   "metadata": {
    "collapsed": false
   },
   "id": "c8ac297fc10314a2"
  },
  {
   "cell_type": "code",
   "outputs": [],
   "source": [
    "# add code here\n"
   ],
   "metadata": {
    "collapsed": false,
    "ExecuteTime": {
     "end_time": "2024-03-06T22:36:21.818121Z",
     "start_time": "2024-03-06T22:36:21.816223Z"
    }
   },
   "id": "ffac60e924174e89",
   "execution_count": 5
  },
  {
   "cell_type": "markdown",
   "source": [
    "### Try to compute the optimal value of k"
   ],
   "metadata": {
    "collapsed": false
   },
   "id": "f67f08dfdb9b9a1e"
  },
  {
   "cell_type": "code",
   "outputs": [],
   "source": [
    "# add code here\n"
   ],
   "metadata": {
    "collapsed": false,
    "ExecuteTime": {
     "end_time": "2024-03-06T22:36:58.095447Z",
     "start_time": "2024-03-06T22:36:58.093507Z"
    }
   },
   "id": "d71a7e4bf7c9f83e",
   "execution_count": 6
  },
  {
   "cell_type": "markdown",
   "source": [
    "### Traind and Evaluate the model with the optimal value of k\n"
   ],
   "metadata": {
    "collapsed": false
   },
   "id": "f86c34d0bff487cf"
  },
  {
   "cell_type": "code",
   "outputs": [],
   "source": [
    "# add code here\n"
   ],
   "metadata": {
    "collapsed": false,
    "ExecuteTime": {
     "end_time": "2024-03-06T22:37:18.596744Z",
     "start_time": "2024-03-06T22:37:18.594928Z"
    }
   },
   "id": "542aa9da685bc188",
   "execution_count": 7
  },
  {
   "cell_type": "markdown",
   "source": [
    "## Train a Naive Bayes classifier"
   ],
   "metadata": {
    "collapsed": false
   },
   "id": "9ac96281066b66c7"
  },
  {
   "cell_type": "code",
   "outputs": [],
   "source": [
    "# add code here\n"
   ],
   "metadata": {
    "collapsed": false,
    "ExecuteTime": {
     "end_time": "2024-03-06T22:38:02.770571Z",
     "start_time": "2024-03-06T22:38:02.768499Z"
    }
   },
   "id": "e156f916d1be29b5",
   "execution_count": 9
  },
  {
   "cell_type": "markdown",
   "source": [
    "### Evaluate the model\n"
   ],
   "metadata": {
    "collapsed": false
   },
   "id": "442587f171688f21"
  },
  {
   "cell_type": "code",
   "outputs": [],
   "source": [
    "# add code here\n"
   ],
   "metadata": {
    "collapsed": false,
    "ExecuteTime": {
     "end_time": "2024-03-06T22:38:14.309978Z",
     "start_time": "2024-03-06T22:38:14.307392Z"
    }
   },
   "id": "b4becabf4933adaa",
   "execution_count": 10
  }
 ],
 "metadata": {
  "kernelspec": {
   "display_name": "Python 3",
   "language": "python",
   "name": "python3"
  },
  "language_info": {
   "codemirror_mode": {
    "name": "ipython",
    "version": 2
   },
   "file_extension": ".py",
   "mimetype": "text/x-python",
   "name": "python",
   "nbconvert_exporter": "python",
   "pygments_lexer": "ipython2",
   "version": "2.7.6"
  }
 },
 "nbformat": 4,
 "nbformat_minor": 5
}
