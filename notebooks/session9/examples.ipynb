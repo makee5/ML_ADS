{
 "cells": [
  {
   "cell_type": "markdown",
   "source": [
    "# KNN and Naive Bayes with Scikit-learn"
   ],
   "metadata": {
    "collapsed": false
   },
   "id": "785ea9223e8c957e"
  },
  {
   "cell_type": "markdown",
   "source": [
    "## Load the iris dataset (scaled)"
   ],
   "metadata": {
    "collapsed": false
   },
   "id": "e1691e98ad997ba5"
  },
  {
   "cell_type": "code",
   "outputs": [
    {
     "data": {
      "text/plain": "   Sepal.Length  Sepal.Width  Petal.Length  Petal.Width Species\n0     -0.900681     1.019004     -1.340227    -1.315444  setosa\n1     -1.143017    -0.131979     -1.340227    -1.315444  setosa\n2     -1.385353     0.328414     -1.397064    -1.315444  setosa\n3     -1.506521     0.098217     -1.283389    -1.315444  setosa\n4     -1.021849     1.249201     -1.340227    -1.315444  setosa",
      "text/html": "<div>\n<style scoped>\n    .dataframe tbody tr th:only-of-type {\n        vertical-align: middle;\n    }\n\n    .dataframe tbody tr th {\n        vertical-align: top;\n    }\n\n    .dataframe thead th {\n        text-align: right;\n    }\n</style>\n<table border=\"1\" class=\"dataframe\">\n  <thead>\n    <tr style=\"text-align: right;\">\n      <th></th>\n      <th>Sepal.Length</th>\n      <th>Sepal.Width</th>\n      <th>Petal.Length</th>\n      <th>Petal.Width</th>\n      <th>Species</th>\n    </tr>\n  </thead>\n  <tbody>\n    <tr>\n      <th>0</th>\n      <td>-0.900681</td>\n      <td>1.019004</td>\n      <td>-1.340227</td>\n      <td>-1.315444</td>\n      <td>setosa</td>\n    </tr>\n    <tr>\n      <th>1</th>\n      <td>-1.143017</td>\n      <td>-0.131979</td>\n      <td>-1.340227</td>\n      <td>-1.315444</td>\n      <td>setosa</td>\n    </tr>\n    <tr>\n      <th>2</th>\n      <td>-1.385353</td>\n      <td>0.328414</td>\n      <td>-1.397064</td>\n      <td>-1.315444</td>\n      <td>setosa</td>\n    </tr>\n    <tr>\n      <th>3</th>\n      <td>-1.506521</td>\n      <td>0.098217</td>\n      <td>-1.283389</td>\n      <td>-1.315444</td>\n      <td>setosa</td>\n    </tr>\n    <tr>\n      <th>4</th>\n      <td>-1.021849</td>\n      <td>1.249201</td>\n      <td>-1.340227</td>\n      <td>-1.315444</td>\n      <td>setosa</td>\n    </tr>\n  </tbody>\n</table>\n</div>"
     },
     "execution_count": 10,
     "metadata": {},
     "output_type": "execute_result"
    }
   ],
   "source": [
    "import pandas as pd\n",
    "\n",
    "iris = pd.read_csv('../../datasets/iris_scaled.csv')\n",
    "iris.head()"
   ],
   "metadata": {
    "collapsed": false,
    "ExecuteTime": {
     "end_time": "2024-03-06T22:26:49.364143Z",
     "start_time": "2024-03-06T22:26:49.356043Z"
    }
   },
   "id": "469003d806a2745e",
   "execution_count": 10
  },
  {
   "cell_type": "markdown",
   "source": [
    "## Split the data"
   ],
   "metadata": {
    "collapsed": false
   },
   "id": "37c360f8a531e7c7"
  },
  {
   "cell_type": "code",
   "outputs": [
    {
     "data": {
      "text/plain": "((120, 4), (30, 4), (120,), (30,))"
     },
     "execution_count": 11,
     "metadata": {},
     "output_type": "execute_result"
    }
   ],
   "source": [
    "from sklearn.model_selection import train_test_split\n",
    "\n",
    "X = iris.drop('Species', axis=1)\n",
    "y = iris['Species']\n",
    "\n",
    "X_train, X_test, y_train, y_test = train_test_split(X, y, test_size=0.2, random_state=123)\n",
    "X_train.shape, X_test.shape, y_train.shape, y_test.shape"
   ],
   "metadata": {
    "collapsed": false,
    "ExecuteTime": {
     "end_time": "2024-03-06T22:26:50.693724Z",
     "start_time": "2024-03-06T22:26:50.687018Z"
    }
   },
   "id": "40a4b3691ee2aebb",
   "execution_count": 11
  },
  {
   "cell_type": "markdown",
   "source": [
    "## K-Nearest Neighbors"
   ],
   "metadata": {
    "collapsed": false
   },
   "id": "5bddbf2c6e054e7f"
  },
  {
   "cell_type": "code",
   "outputs": [
    {
     "data": {
      "text/plain": "array(['virginica', 'virginica', 'virginica', 'versicolor', 'setosa',\n       'versicolor', 'versicolor', 'setosa', 'setosa', 'versicolor',\n       'virginica', 'setosa', 'versicolor', 'virginica', 'virginica',\n       'virginica', 'setosa', 'setosa', 'versicolor', 'setosa', 'setosa',\n       'versicolor', 'setosa', 'virginica', 'setosa', 'setosa', 'setosa',\n       'virginica', 'virginica', 'setosa'], dtype=object)"
     },
     "execution_count": 12,
     "metadata": {},
     "output_type": "execute_result"
    }
   ],
   "source": [
    "from sklearn.neighbors import KNeighborsClassifier\n",
    "\n",
    "knn = KNeighborsClassifier(n_neighbors=3)\n",
    "knn.fit(X_train, y_train)\n",
    "y_pred = knn.predict(X_test)\n",
    "y_pred"
   ],
   "metadata": {
    "collapsed": false,
    "ExecuteTime": {
     "end_time": "2024-03-06T22:26:51.950650Z",
     "start_time": "2024-03-06T22:26:51.942899Z"
    }
   },
   "id": "48e72e847384d7fc",
   "execution_count": 12
  },
  {
   "cell_type": "markdown",
   "source": [
    "### Evaluate the model"
   ],
   "metadata": {
    "collapsed": false
   },
   "id": "193cf732e32c759d"
  },
  {
   "cell_type": "code",
   "outputs": [
    {
     "name": "stdout",
     "output_type": "stream",
     "text": [
      "0.9\n",
      "              precision    recall  f1-score   support\n",
      "\n",
      "      setosa       1.00      1.00      1.00        13\n",
      "  versicolor       0.71      0.83      0.77         6\n",
      "   virginica       0.90      0.82      0.86        11\n",
      "\n",
      "    accuracy                           0.90        30\n",
      "   macro avg       0.87      0.88      0.88        30\n",
      "weighted avg       0.91      0.90      0.90        30\n"
     ]
    }
   ],
   "source": [
    "from sklearn.metrics import classification_report, accuracy_score\n",
    "\n",
    "print(accuracy_score(y_test, y_pred))\n",
    "print(classification_report(y_test, y_pred))"
   ],
   "metadata": {
    "collapsed": false,
    "ExecuteTime": {
     "end_time": "2024-03-06T22:29:40.688517Z",
     "start_time": "2024-03-06T22:29:40.680977Z"
    }
   },
   "id": "709e517b516c6118",
   "execution_count": 17
  },
  {
   "cell_type": "markdown",
   "source": [
    "### Infer the best value for k using cross-validation"
   ],
   "metadata": {
    "collapsed": false
   },
   "id": "fbba0358c0336739"
  },
  {
   "cell_type": "code",
   "outputs": [
    {
     "data": {
      "text/plain": "[0.9333333333333333,\n 0.925,\n 0.9416666666666667,\n 0.9416666666666667,\n 0.9583333333333334,\n 0.9666666666666666,\n 0.9666666666666666,\n 0.9666666666666666,\n 0.9666666666666666,\n 0.9583333333333334,\n 0.9666666666666666,\n 0.9666666666666666,\n 0.9666666666666666,\n 0.9666666666666666,\n 0.9666666666666666,\n 0.9666666666666666,\n 0.9583333333333334,\n 0.9583333333333334,\n 0.9583333333333333,\n 0.9499999999999998,\n 0.95,\n 0.9333333333333333,\n 0.9333333333333333,\n 0.925,\n 0.925,\n 0.9083333333333334,\n 0.9166666666666667,\n 0.9,\n 0.9,\n 0.9]"
     },
     "execution_count": 18,
     "metadata": {},
     "output_type": "execute_result"
    }
   ],
   "source": [
    "from sklearn.model_selection import cross_val_score\n",
    "\n",
    "k_values = list(range(1, 31))\n",
    "k_scores = []\n",
    "\n",
    "for k in k_values:\n",
    "    knn = KNeighborsClassifier(n_neighbors=k)\n",
    "    scores = cross_val_score(knn, X_train, y_train, cv=10, scoring='accuracy')\n",
    "    k_scores.append(scores.mean())\n",
    "    \n",
    "k_scores"
   ],
   "metadata": {
    "collapsed": false,
    "ExecuteTime": {
     "end_time": "2024-03-06T22:29:51.025531Z",
     "start_time": "2024-03-06T22:29:50.117899Z"
    }
   },
   "id": "d724ecde2cd38819",
   "execution_count": 18
  },
  {
   "cell_type": "code",
   "outputs": [
    {
     "data": {
      "text/plain": "<Figure size 640x480 with 1 Axes>",
      "image/png": "[encoded data removed]"
     },
     "metadata": {},
     "output_type": "display_data"
    }
   ],
   "source": [
    "import matplotlib.pyplot as plt\n",
    "\n",
    "plt.plot(k_values, k_scores)\n",
    "plt.xlabel('Value of k for KNN')\n",
    "plt.ylabel('Cross-Validated Accuracy')\n",
    "plt.show()"
   ],
   "metadata": {
    "collapsed": false,
    "ExecuteTime": {
     "end_time": "2024-03-06T22:29:52.238676Z",
     "start_time": "2024-03-06T22:29:52.159641Z"
    }
   },
   "id": "39f6d6466ac0bcc1",
   "execution_count": 19
  },
  {
   "cell_type": "markdown",
   "source": [
    "### Knn with k=15"
   ],
   "metadata": {
    "collapsed": false
   },
   "id": "e88cded9e4d9c698"
  },
  {
   "cell_type": "code",
   "outputs": [
    {
     "data": {
      "text/plain": "0.9"
     },
     "execution_count": 31,
     "metadata": {},
     "output_type": "execute_result"
    }
   ],
   "source": [
    "knn = KNeighborsClassifier(n_neighbors=15)\n",
    "knn.fit(X_train, y_train)\n",
    "y_pred = knn.predict(X_test)\n",
    "accuracy_score(y_test, y_pred)"
   ],
   "metadata": {
    "collapsed": false,
    "ExecuteTime": {
     "end_time": "2024-03-06T22:35:15.249914Z",
     "start_time": "2024-03-06T22:35:15.242062Z"
    }
   },
   "id": "19dc6cc2c690bd55",
   "execution_count": 31
  },
  {
   "cell_type": "markdown",
   "source": [
    "## Naive Bayes"
   ],
   "metadata": {
    "collapsed": false
   },
   "id": "16c4bd9384ebf833"
  },
  {
   "cell_type": "code",
   "outputs": [
    {
     "data": {
      "text/plain": "array(['versicolor', 'virginica', 'virginica', 'versicolor', 'setosa',\n       'virginica', 'versicolor', 'setosa', 'setosa', 'versicolor',\n       'virginica', 'setosa', 'versicolor', 'virginica', 'virginica',\n       'virginica', 'setosa', 'setosa', 'versicolor', 'setosa', 'setosa',\n       'versicolor', 'setosa', 'virginica', 'setosa', 'setosa', 'setosa',\n       'virginica', 'virginica', 'setosa'], dtype='<U10')"
     },
     "execution_count": 28,
     "metadata": {},
     "output_type": "execute_result"
    }
   ],
   "source": [
    "from sklearn.naive_bayes import GaussianNB\n",
    "\n",
    "nb = GaussianNB()\n",
    "nb.fit(X_train, y_train)\n",
    "y_pred = nb.predict(X_test)\n",
    "y_pred"
   ],
   "metadata": {
    "collapsed": false,
    "ExecuteTime": {
     "end_time": "2024-03-06T22:31:31.890273Z",
     "start_time": "2024-03-06T22:31:31.878606Z"
    }
   },
   "id": "4f88433ab421735b",
   "execution_count": 28
  },
  {
   "cell_type": "code",
   "outputs": [
    {
     "name": "stdout",
     "output_type": "stream",
     "text": [
      "0.9666666666666667\n"
     ]
    }
   ],
   "source": [
    "print(accuracy_score(y_test, y_pred))"
   ],
   "metadata": {
    "collapsed": false,
    "ExecuteTime": {
     "end_time": "2024-03-06T22:31:41.218840Z",
     "start_time": "2024-03-06T22:31:41.215750Z"
    }
   },
   "id": "d941c9a2ac0c0740",
   "execution_count": 29
  },
  {
   "cell_type": "code",
   "outputs": [
    {
     "name": "stdout",
     "output_type": "stream",
     "text": [
      "              precision    recall  f1-score   support\n",
      "\n",
      "      setosa       1.00      1.00      1.00        13\n",
      "  versicolor       0.86      1.00      0.92         6\n",
      "   virginica       1.00      0.91      0.95        11\n",
      "\n",
      "    accuracy                           0.97        30\n",
      "   macro avg       0.95      0.97      0.96        30\n",
      "weighted avg       0.97      0.97      0.97        30\n"
     ]
    }
   ],
   "source": [
    "print(classification_report(y_test, y_pred))"
   ],
   "metadata": {
    "collapsed": false,
    "ExecuteTime": {
     "end_time": "2024-03-06T22:32:56.835787Z",
     "start_time": "2024-03-06T22:32:56.829574Z"
    }
   },
   "id": "6c6dcf56205aed44",
   "execution_count": 30
  },
  {
   "cell_type": "code",
   "outputs": [],
   "source": [],
   "metadata": {
    "collapsed": false
   },
   "id": "18e7211bf858bc6"
  }
 ],
 "metadata": {
  "kernelspec": {
   "display_name": "Python 3",
   "language": "python",
   "name": "python3"
  },
  "language_info": {
   "codemirror_mode": {
    "name": "ipython",
    "version": 2
   },
   "file_extension": ".py",
   "mimetype": "text/x-python",
   "name": "python",
   "nbconvert_exporter": "python",
   "pygments_lexer": "ipython2",
   "version": "2.7.6"
  }
 },
 "nbformat": 4,
 "nbformat_minor": 5
}
