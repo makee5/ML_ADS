{
 "cells": [
  {
   "metadata": {},
   "cell_type": "markdown",
   "source": "# Load the data",
   "id": "fc50ad0d3da35c3b"
  },
  {
   "metadata": {},
   "cell_type": "code",
   "outputs": [],
   "execution_count": null,
   "source": "# add code here\n",
   "id": "bf030e007d579a99"
  },
  {
   "metadata": {},
   "cell_type": "markdown",
   "source": "# Split the data into training and test sets",
   "id": "2fd2c7e83135c2c2"
  },
  {
   "metadata": {},
   "cell_type": "code",
   "outputs": [],
   "execution_count": null,
   "source": "# add code here\n",
   "id": "35bc8ac6d5090b47"
  },
  {
   "metadata": {},
   "cell_type": "markdown",
   "source": "# Scale the data",
   "id": "8691c5d33f8bec3"
  },
  {
   "metadata": {
    "ExecuteTime": {
     "end_time": "2024-04-22T21:23:27.550810Z",
     "start_time": "2024-04-22T21:23:27.548667Z"
    }
   },
   "cell_type": "code",
   "source": "# add code here\n",
   "id": "db7457abc7f98c79",
   "outputs": [],
   "execution_count": 1
  },
  {
   "metadata": {},
   "cell_type": "markdown",
   "source": "# Train and evaluate a Perceptron model and a Multi-layer Perceptron model",
   "id": "b576d34790ed84b0"
  },
  {
   "metadata": {},
   "cell_type": "code",
   "outputs": [],
   "execution_count": null,
   "source": "# add code here\n",
   "id": "a010eec0ffc0c266"
  }
 ],
 "metadata": {
  "kernelspec": {
   "display_name": "Python 3",
   "language": "python",
   "name": "python3"
  },
  "language_info": {
   "codemirror_mode": {
    "name": "ipython",
    "version": 2
   },
   "file_extension": ".py",
   "mimetype": "text/x-python",
   "name": "python",
   "nbconvert_exporter": "python",
   "pygments_lexer": "ipython2",
   "version": "2.7.6"
  }
 },
 "nbformat": 4,
 "nbformat_minor": 5
}
