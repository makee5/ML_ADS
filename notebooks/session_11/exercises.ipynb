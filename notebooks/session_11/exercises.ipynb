{
 "cells": [
  {
   "cell_type": "markdown",
   "source": [
    "# Load one of the datasets in the datasets directory"
   ],
   "metadata": {
    "collapsed": false
   },
   "id": "82b3121c66086cdd"
  },
  {
   "cell_type": "code",
   "outputs": [],
   "source": [
    "# add code here\n"
   ],
   "metadata": {
    "collapsed": false,
    "ExecuteTime": {
     "end_time": "2024-03-13T20:53:41.343671Z",
     "start_time": "2024-03-13T20:53:41.340530Z"
    }
   },
   "id": "34066d6c4fc3746e",
   "execution_count": 1
  },
  {
   "cell_type": "markdown",
   "source": [
    "### scale the data if necessary"
   ],
   "metadata": {
    "collapsed": false
   },
   "id": "6943adcb6398ec93"
  },
  {
   "cell_type": "code",
   "outputs": [],
   "source": [
    "# add code here\n"
   ],
   "metadata": {
    "collapsed": false,
    "ExecuteTime": {
     "end_time": "2024-03-13T20:54:01.001118Z",
     "start_time": "2024-03-13T20:54:00.998215Z"
    }
   },
   "id": "ab2e641d427bcd8e",
   "execution_count": 2
  },
  {
   "cell_type": "markdown",
   "source": [
    "## split the data into train and test"
   ],
   "metadata": {
    "collapsed": false
   },
   "id": "d841735e9a3459dd"
  },
  {
   "cell_type": "code",
   "outputs": [],
   "source": [
    "# add code here\n"
   ],
   "metadata": {
    "collapsed": false,
    "ExecuteTime": {
     "end_time": "2024-03-13T20:54:16.687686Z",
     "start_time": "2024-03-13T20:54:16.684927Z"
    }
   },
   "id": "89dcdaf0a8892429",
   "execution_count": 3
  },
  {
   "cell_type": "markdown",
   "source": [
    "## Experiment with Linear/Logistic Regression and Lasso/Ridge Regression"
   ],
   "metadata": {
    "collapsed": false
   },
   "id": "94331aa7651dc654"
  },
  {
   "cell_type": "code",
   "outputs": [],
   "source": [
    "# add code here\n"
   ],
   "metadata": {
    "collapsed": false,
    "ExecuteTime": {
     "end_time": "2024-03-13T20:55:00.786767Z",
     "start_time": "2024-03-13T20:55:00.783760Z"
    }
   },
   "id": "41a4b3e7cc20926",
   "execution_count": 4
  },
  {
   "cell_type": "markdown",
   "source": [
    "### What are the coefficients and intercepts of the models?"
   ],
   "metadata": {
    "collapsed": false
   },
   "id": "273421218b49995"
  },
  {
   "cell_type": "code",
   "outputs": [],
   "source": [
    "# add code here\n"
   ],
   "metadata": {
    "collapsed": false,
    "ExecuteTime": {
     "end_time": "2024-03-13T20:55:32.755765Z",
     "start_time": "2024-03-13T20:55:32.752932Z"
    }
   },
   "id": "28178b9a49f559c6",
   "execution_count": 6
  },
  {
   "cell_type": "markdown",
   "source": [
    "## Evaluate the models using the test data"
   ],
   "metadata": {
    "collapsed": false
   },
   "id": "80ca20e8dee7f0ec"
  },
  {
   "cell_type": "code",
   "outputs": [],
   "source": [
    "# add code here\n"
   ],
   "metadata": {
    "collapsed": false,
    "ExecuteTime": {
     "end_time": "2024-03-13T20:56:20.295014Z",
     "start_time": "2024-03-13T20:56:20.291901Z"
    }
   },
   "id": "378da01c3951e58a",
   "execution_count": 7
  }
 ],
 "metadata": {
  "kernelspec": {
   "display_name": "Python 3",
   "language": "python",
   "name": "python3"
  },
  "language_info": {
   "codemirror_mode": {
    "name": "ipython",
    "version": 2
   },
   "file_extension": ".py",
   "mimetype": "text/x-python",
   "name": "python",
   "nbconvert_exporter": "python",
   "pygments_lexer": "ipython2",
   "version": "2.7.6"
  }
 },
 "nbformat": 4,
 "nbformat_minor": 5
}
