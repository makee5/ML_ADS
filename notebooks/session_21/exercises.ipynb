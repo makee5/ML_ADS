{
 "cells": [
  {
   "metadata": {},
   "cell_type": "markdown",
   "source": [
    "# Stacking Implementation with Python"
   ],
   "id": "83662e6295674ee7"
  },
  {
   "metadata": {},
   "cell_type": "markdown",
   "source": [
    "Create a function that takes as input an X and an Y, a list of models and a meta-model and trains the models in a stacking ensemble. The function should train the list of models on the training data and then use the predictions of the models as input to the meta-model. The function should return the trained models and the trained meta-model. The function should also have an option to return the predictions of the meta-model on the test data. The function should have the following signature:\n",
    "\n",
    "```python\n",
    "def stacking(X, y, models, meta_model):\n",
    "    # Train the models on the training data\n",
    "    # Use the trained models to make predictions on the test data\n",
    "    # Train the meta-model on the predictions of the models\n",
    "    # Use the trained meta-model to make predictions on the test data\n",
    "    # Return the trained models and the trained meta-model\n",
    "```\n"
   ],
   "id": "112fce85b35dc962"
  },
  {
   "metadata": {
    "ExecuteTime": {
     "end_time": "2024-05-14T09:48:07.800539Z",
     "start_time": "2024-05-14T09:48:07.790260Z"
    }
   },
   "cell_type": "code",
   "outputs": [],
   "execution_count": 1,
   "source": [
    "import numpy as np\n",
    "\n",
    "\n",
    "# add code here\n",
    "def stacking(x, y, models, meta_model):\n",
    "    predictions = []\n",
    "    for model in models:\n",
    "        model.fit(x, y)\n",
    "        y_pred = model.predict(x)\n",
    "        predictions.append(y_pred)\n",
    "    meta_model.fit(predictions, y)\n",
    "    return meta_model.predict(predictions)\n"
   ],
   "id": "ff72e9adf4bdc3c3"
  },
  {
   "metadata": {},
   "cell_type": "markdown",
   "source": [
    "## Test the stacking implementation\n",
    "\n",
    "To test the stacking implementation, we will use the following models and meta-model:\n",
    "\n",
    "- Models: Random Forest, Gradient Boosting, Support Vector Machine\n",
    "- Meta-model: Linear Regression\n"
   ],
   "id": "f6a121277a5f7edf"
  },
  {
   "metadata": {
    "ExecuteTime": {
     "end_time": "2024-05-13T21:36:26.959546Z",
     "start_time": "2024-05-13T21:36:26.957169Z"
    }
   },
   "cell_type": "code",
   "source": [
    "# add code here\n"
   ],
   "id": "ed47393cd12bacf5",
   "outputs": [],
   "execution_count": 1
  },
  {
   "metadata": {},
   "cell_type": "markdown",
   "source": [
    "## Use the stacking implementation to make predictions on the test data"
   ],
   "id": "89e72c410da924a9"
  },
  {
   "metadata": {},
   "cell_type": "code",
   "outputs": [],
   "execution_count": null,
   "source": [
    "# add code here\n"
   ],
   "id": "96ac3791522e5def"
  },
  {
   "metadata": {},
   "cell_type": "markdown",
   "source": [
    "# Hyperparameter Optimization"
   ],
   "id": "a4bf683b5409cb7c"
  },
  {
   "metadata": {},
   "cell_type": "markdown",
   "source": [
    "Create a function that takes as input the training data, the model and a dictionary of hyperparameters and respective values and performs hyperparameter optimization using grid search. The function should return the best hyperparameters found by the grid search. The function should have the following signature:\n",
    "\n",
    "```python\n",
    "def hyperparameter_optimization(X, y, model, param_grid):\n",
    "    # Perform hyperparameter optimization using grid search\n",
    "    # Return the best hyperparameters found by the grid search\n",
    "```\n",
    "\n",
    "Example of usage:\n",
    "\n",
    "```python\n",
    "param_grid = {\n",
    "    'n_estimators': [50, 100, 200],\n",
    "    'max_depth': [3, 5, 7]\n",
    "}\n",
    "\n",
    "best_params = hyperparameter_optimization(X_train, y_train, RandomForestRegressor(), param_grid)\n",
    "```"
   ],
   "id": "ecae28391d725b58"
  },
  {
   "metadata": {
    "ExecuteTime": {
     "end_time": "2024-05-14T10:00:22.873448Z",
     "start_time": "2024-05-14T10:00:22.872227Z"
    }
   },
   "cell_type": "code",
   "outputs": [],
   "execution_count": 2,
   "source": [
    "# add code here\n",
    "import itertools\n",
    "def hp(x, y, model, param_grid):\n",
    "    if max:\n",
    "        best_score = 0\n",
    "    else: \n",
    "        best_score = np.inf\n",
    "    for params in itertools.product(*param_grid):\n",
    "        m = model(*param_grid)\n",
    "        y_pred = m.predict(x)\n",
    "        if max:\n",
    "            score = acurracy(y_pred, x)\n",
    "            if score > best_score:\n",
    "                best_score = score"
   ],
   "id": "e4bb25b66ba62821"
  },
  {
   "metadata": {},
   "cell_type": "markdown",
   "source": [
    "## Test the hyperparameter optimization implementation"
   ],
   "id": "38f6c9614bf5bf5e"
  },
  {
   "metadata": {},
   "cell_type": "code",
   "outputs": [],
   "execution_count": null,
   "source": [
    "# add code here\n"
   ],
   "id": "a2feb119fdb9d500"
  }
 ],
 "metadata": {
  "kernelspec": {
   "display_name": "Python 3",
   "language": "python",
   "name": "python3"
  },
  "language_info": {
   "codemirror_mode": {
    "name": "ipython",
    "version": 2
   },
   "file_extension": ".py",
   "mimetype": "text/x-python",
   "name": "python",
   "nbconvert_exporter": "python",
   "pygments_lexer": "ipython2",
   "version": "2.7.6"
  }
 },
 "nbformat": 4,
 "nbformat_minor": 5
}
