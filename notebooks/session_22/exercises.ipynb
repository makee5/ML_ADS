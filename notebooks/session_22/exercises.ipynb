{
 "cells": [
  {
   "metadata": {},
   "cell_type": "markdown",
   "source": "# Imbalanced irirs dataset",
   "id": "b48aa3fb5150379a"
  },
  {
   "metadata": {
    "ExecuteTime": {
     "end_time": "2024-05-15T21:11:40.596069Z",
     "start_time": "2024-05-15T21:11:39.980979Z"
    }
   },
   "cell_type": "code",
   "source": [
    "from sklearn.datasets import load_iris\n",
    "\n",
    "from imblearn.datasets import make_imbalance\n",
    "\n",
    "iris = load_iris(as_frame=True)\n",
    "\n",
    "sampling_strategy = {0: 10, 1: 20, 2: 47}\n",
    "X, y = make_imbalance(iris.data, iris.target, sampling_strategy=sampling_strategy)"
   ],
   "id": "fbc8ac3245a9002c",
   "outputs": [],
   "execution_count": 1
  },
  {
   "metadata": {},
   "cell_type": "markdown",
   "source": "# Balance the dataset",
   "id": "91c049fd8db901d4"
  },
  {
   "metadata": {},
   "cell_type": "code",
   "outputs": [],
   "execution_count": null,
   "source": "# add code here\n",
   "id": "9b21540343348272"
  },
  {
   "metadata": {},
   "cell_type": "markdown",
   "source": "# Train a model with the balanced dataset and without balancing and compare the results",
   "id": "4d901954b0b668d1"
  },
  {
   "metadata": {},
   "cell_type": "code",
   "outputs": [],
   "execution_count": null,
   "source": "# add code here\n",
   "id": "f841ee325bfffac6"
  }
 ],
 "metadata": {
  "kernelspec": {
   "display_name": "Python 3",
   "language": "python",
   "name": "python3"
  },
  "language_info": {
   "codemirror_mode": {
    "name": "ipython",
    "version": 2
   },
   "file_extension": ".py",
   "mimetype": "text/x-python",
   "name": "python",
   "nbconvert_exporter": "python",
   "pygments_lexer": "ipython2",
   "version": "2.7.6"
  }
 },
 "nbformat": 4,
 "nbformat_minor": 5
}
