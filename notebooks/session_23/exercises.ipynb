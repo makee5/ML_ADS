{
 "cells": [
  {
   "metadata": {},
   "cell_type": "markdown",
   "source": "# Load a dataset of your choice",
   "id": "7fd8cd3ef4b838b1"
  },
  {
   "metadata": {},
   "cell_type": "code",
   "outputs": [],
   "execution_count": null,
   "source": "# add your code here\n",
   "id": "cc6f28594e2a73ab"
  },
  {
   "metadata": {},
   "cell_type": "markdown",
   "source": "# Split the dataset into a training and a test set",
   "id": "56009b98362b6d9c"
  },
  {
   "metadata": {
    "ExecuteTime": {
     "end_time": "2024-05-20T21:40:21.587497Z",
     "start_time": "2024-05-20T21:40:21.586011Z"
    }
   },
   "cell_type": "code",
   "source": "# add your code here\n",
   "id": "9f39abc095c5d9a6",
   "outputs": [],
   "execution_count": 7
  },
  {
   "metadata": {},
   "cell_type": "markdown",
   "source": "# Train a model of your choice on the training set",
   "id": "790a7d4cb6f49abe"
  },
  {
   "metadata": {
    "ExecuteTime": {
     "end_time": "2024-05-20T21:40:41.912002Z",
     "start_time": "2024-05-20T21:40:41.909982Z"
    }
   },
   "cell_type": "code",
   "source": "# add your code here\n",
   "id": "766503b63c42ed38",
   "outputs": [],
   "execution_count": 8
  },
  {
   "metadata": {},
   "cell_type": "markdown",
   "source": "# Use the SHAP library to explain the model's predictions on the test set",
   "id": "47d9e0cdaf11d08d"
  },
  {
   "metadata": {
    "ExecuteTime": {
     "end_time": "2024-05-20T21:40:58.120256Z",
     "start_time": "2024-05-20T21:40:58.118123Z"
    }
   },
   "cell_type": "code",
   "source": "# add your code here\n",
   "id": "896ecb77b54630ef",
   "outputs": [],
   "execution_count": 9
  },
  {
   "metadata": {},
   "cell_type": "markdown",
   "source": [
    "- What do you think of the explanations? Are they helpful? Why (not)?\n",
    "- What are the most important features for the model's predictions?"
   ],
   "id": "d5987b0da8654725"
  },
  {
   "metadata": {},
   "cell_type": "code",
   "outputs": [],
   "execution_count": null,
   "source": "",
   "id": "828422e2885de193"
  }
 ],
 "metadata": {
  "kernelspec": {
   "display_name": "Python 3",
   "language": "python",
   "name": "python3"
  },
  "language_info": {
   "codemirror_mode": {
    "name": "ipython",
    "version": 2
   },
   "file_extension": ".py",
   "mimetype": "text/x-python",
   "name": "python",
   "nbconvert_exporter": "python",
   "pygments_lexer": "ipython2",
   "version": "2.7.6"
  }
 },
 "nbformat": 4,
 "nbformat_minor": 5
}
