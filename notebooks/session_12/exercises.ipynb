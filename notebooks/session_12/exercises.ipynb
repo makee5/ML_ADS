{
 "cells": [
  {
   "cell_type": "markdown",
   "source": [
    "# Load the data"
   ],
   "metadata": {
    "collapsed": false
   },
   "id": "7924008832739cc9"
  },
  {
   "cell_type": "code",
   "outputs": [],
   "source": [
    "# add code here\n"
   ],
   "metadata": {
    "collapsed": false,
    "ExecuteTime": {
     "end_time": "2024-03-18T20:43:52.881949Z",
     "start_time": "2024-03-18T20:43:52.879679Z"
    }
   },
   "id": "a069999b40ad3d55",
   "execution_count": 1
  },
  {
   "cell_type": "markdown",
   "source": [
    "# Split the data into train and test"
   ],
   "metadata": {
    "collapsed": false
   },
   "id": "c6c2d09f8268d424"
  },
  {
   "cell_type": "code",
   "outputs": [],
   "source": [
    "# add code here\n"
   ],
   "metadata": {
    "collapsed": false,
    "ExecuteTime": {
     "end_time": "2024-03-18T20:44:30.996350Z",
     "start_time": "2024-03-18T20:44:30.993942Z"
    }
   },
   "id": "95eb95809f058b09",
   "execution_count": 2
  },
  {
   "cell_type": "markdown",
   "source": [
    "# Train a Decision Tree model"
   ],
   "metadata": {
    "collapsed": false
   },
   "id": "e049d8c0ce84c9d8"
  },
  {
   "cell_type": "code",
   "outputs": [],
   "source": [
    "# add code here\n"
   ],
   "metadata": {
    "collapsed": false,
    "ExecuteTime": {
     "end_time": "2024-03-18T20:44:46.208930Z",
     "start_time": "2024-03-18T20:44:46.206650Z"
    }
   },
   "id": "4f7cfc76bce65156",
   "execution_count": 3
  },
  {
   "cell_type": "markdown",
   "source": [
    "# Draw the tree"
   ],
   "metadata": {
    "collapsed": false
   },
   "id": "7da1ac54d2ea75b5"
  },
  {
   "cell_type": "code",
   "outputs": [],
   "source": [
    "# add code here\n"
   ],
   "metadata": {
    "collapsed": false
   },
   "id": "398a1c019759a672"
  },
  {
   "cell_type": "markdown",
   "source": [
    "# Evaluate the model"
   ],
   "metadata": {
    "collapsed": false
   },
   "id": "bb0f79497d450967"
  },
  {
   "cell_type": "code",
   "outputs": [],
   "source": [
    "# add code here\n"
   ],
   "metadata": {
    "collapsed": false,
    "ExecuteTime": {
     "end_time": "2024-03-18T20:45:00.820575Z",
     "start_time": "2024-03-18T20:45:00.818300Z"
    }
   },
   "id": "8485ac781b14f932",
   "execution_count": 4
  },
  {
   "cell_type": "markdown",
   "source": [
    "# Which feature is the most important?"
   ],
   "metadata": {
    "collapsed": false
   },
   "id": "a15ba790f260b86a"
  },
  {
   "cell_type": "code",
   "outputs": [],
   "source": [
    "# add code here\n"
   ],
   "metadata": {
    "collapsed": false,
    "ExecuteTime": {
     "end_time": "2024-03-18T20:45:31.497687Z",
     "start_time": "2024-03-18T20:45:31.495455Z"
    }
   },
   "id": "df935f03f89deede",
   "execution_count": 5
  },
  {
   "cell_type": "markdown",
   "source": [
    "# Prune the tree\n",
    "\n",
    "## Find the best value for the alpha parameter\n",
    "\n",
    "## What is the depth of the pruned tree?"
   ],
   "metadata": {
    "collapsed": false
   },
   "id": "adecf8359af59fd6"
  },
  {
   "cell_type": "code",
   "outputs": [],
   "source": [
    "# add code here\n"
   ],
   "metadata": {
    "collapsed": false,
    "ExecuteTime": {
     "end_time": "2024-03-18T20:46:56.453823Z",
     "start_time": "2024-03-18T20:46:56.451614Z"
    }
   },
   "id": "9deeb158e29fe148",
   "execution_count": 6
  },
  {
   "cell_type": "markdown",
   "source": [
    "# Train and evaluate the pruned tree"
   ],
   "metadata": {
    "collapsed": false
   },
   "id": "303d777c3d340237"
  },
  {
   "cell_type": "code",
   "outputs": [],
   "source": [
    "# add code here\n"
   ],
   "metadata": {
    "collapsed": false,
    "ExecuteTime": {
     "end_time": "2024-03-18T20:47:18.388433Z",
     "start_time": "2024-03-18T20:47:18.385976Z"
    }
   },
   "id": "9215c43cad9865a6",
   "execution_count": 7
  },
  {
   "cell_type": "code",
   "outputs": [],
   "source": [],
   "metadata": {
    "collapsed": false
   },
   "id": "cc8cc8678ecc5671"
  }
 ],
 "metadata": {
  "kernelspec": {
   "display_name": "Python 3",
   "language": "python",
   "name": "python3"
  },
  "language_info": {
   "codemirror_mode": {
    "name": "ipython",
    "version": 2
   },
   "file_extension": ".py",
   "mimetype": "text/x-python",
   "name": "python",
   "nbconvert_exporter": "python",
   "pygments_lexer": "ipython2",
   "version": "2.7.6"
  }
 },
 "nbformat": 4,
 "nbformat_minor": 5
}
