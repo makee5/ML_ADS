{
 "cells": [
  {
   "cell_type": "code",
   "execution_count": 13,
   "id": "initial_id",
   "metadata": {
    "collapsed": true,
    "ExecuteTime": {
     "end_time": "2024-04-16T16:45:15.159647Z",
     "start_time": "2024-04-16T16:45:15.134084Z"
    }
   },
   "outputs": [
    {
     "data": {
      "text/plain": "     model  year  price transmission  mileage fuelType  tax   mpg  engineSize\n0   Fiesta  2017  12000    Automatic    15944   Petrol  150  57.7         1.0\n1    Focus  2018  14000       Manual     9083   Petrol  150  57.7         1.0\n2    Focus  2017  13000       Manual    12456   Petrol  150  57.7         1.0\n3   Fiesta  2019  17500       Manual    10460   Petrol  145  40.3         1.5\n4   Fiesta  2019  16500    Automatic     1482   Petrol  145  48.7         1.0",
      "text/html": "<div>\n<style scoped>\n    .dataframe tbody tr th:only-of-type {\n        vertical-align: middle;\n    }\n\n    .dataframe tbody tr th {\n        vertical-align: top;\n    }\n\n    .dataframe thead th {\n        text-align: right;\n    }\n</style>\n<table border=\"1\" class=\"dataframe\">\n  <thead>\n    <tr style=\"text-align: right;\">\n      <th></th>\n      <th>model</th>\n      <th>year</th>\n      <th>price</th>\n      <th>transmission</th>\n      <th>mileage</th>\n      <th>fuelType</th>\n      <th>tax</th>\n      <th>mpg</th>\n      <th>engineSize</th>\n    </tr>\n  </thead>\n  <tbody>\n    <tr>\n      <th>0</th>\n      <td>Fiesta</td>\n      <td>2017</td>\n      <td>12000</td>\n      <td>Automatic</td>\n      <td>15944</td>\n      <td>Petrol</td>\n      <td>150</td>\n      <td>57.7</td>\n      <td>1.0</td>\n    </tr>\n    <tr>\n      <th>1</th>\n      <td>Focus</td>\n      <td>2018</td>\n      <td>14000</td>\n      <td>Manual</td>\n      <td>9083</td>\n      <td>Petrol</td>\n      <td>150</td>\n      <td>57.7</td>\n      <td>1.0</td>\n    </tr>\n    <tr>\n      <th>2</th>\n      <td>Focus</td>\n      <td>2017</td>\n      <td>13000</td>\n      <td>Manual</td>\n      <td>12456</td>\n      <td>Petrol</td>\n      <td>150</td>\n      <td>57.7</td>\n      <td>1.0</td>\n    </tr>\n    <tr>\n      <th>3</th>\n      <td>Fiesta</td>\n      <td>2019</td>\n      <td>17500</td>\n      <td>Manual</td>\n      <td>10460</td>\n      <td>Petrol</td>\n      <td>145</td>\n      <td>40.3</td>\n      <td>1.5</td>\n    </tr>\n    <tr>\n      <th>4</th>\n      <td>Fiesta</td>\n      <td>2019</td>\n      <td>16500</td>\n      <td>Automatic</td>\n      <td>1482</td>\n      <td>Petrol</td>\n      <td>145</td>\n      <td>48.7</td>\n      <td>1.0</td>\n    </tr>\n  </tbody>\n</table>\n</div>"
     },
     "execution_count": 13,
     "metadata": {},
     "output_type": "execute_result"
    }
   ],
   "source": [
    "# abrir o dataset\n",
    "import pandas as pd\n",
    "\n",
    "df = pd.read_csv('ford.csv')\n",
    "df.head()"
   ]
  },
  {
   "cell_type": "code",
   "outputs": [
    {
     "data": {
      "text/plain": "0"
     },
     "execution_count": 14,
     "metadata": {},
     "output_type": "execute_result"
    }
   ],
   "source": [
    "#verificar a existência de valores omissos\n",
    "df.isnull().sum().sum()"
   ],
   "metadata": {
    "collapsed": false,
    "ExecuteTime": {
     "end_time": "2024-04-16T16:45:16.919763Z",
     "start_time": "2024-04-16T16:45:16.909539Z"
    }
   },
   "id": "83c4521fa662bcc0",
   "execution_count": 14
  },
  {
   "cell_type": "code",
   "outputs": [
    {
     "data": {
      "text/plain": "154"
     },
     "execution_count": 15,
     "metadata": {},
     "output_type": "execute_result"
    }
   ],
   "source": [
    "#verificar a existência de duplicados\n",
    "df.duplicated().sum()"
   ],
   "metadata": {
    "collapsed": false,
    "ExecuteTime": {
     "end_time": "2024-04-16T16:45:17.563305Z",
     "start_time": "2024-04-16T16:45:17.549925Z"
    }
   },
   "id": "a15de0c63d8184b6",
   "execution_count": 15
  },
  {
   "cell_type": "code",
   "outputs": [
    {
     "data": {
      "text/plain": "     model  year  price transmission  mileage fuelType  tax   mpg  engineSize\n0   Fiesta  2017  12000    Automatic    15944   Petrol  150  57.7         1.0\n1    Focus  2018  14000       Manual     9083   Petrol  150  57.7         1.0\n2    Focus  2017  13000       Manual    12456   Petrol  150  57.7         1.0\n3   Fiesta  2019  17500       Manual    10460   Petrol  145  40.3         1.5\n4   Fiesta  2019  16500    Automatic     1482   Petrol  145  48.7         1.0",
      "text/html": "<div>\n<style scoped>\n    .dataframe tbody tr th:only-of-type {\n        vertical-align: middle;\n    }\n\n    .dataframe tbody tr th {\n        vertical-align: top;\n    }\n\n    .dataframe thead th {\n        text-align: right;\n    }\n</style>\n<table border=\"1\" class=\"dataframe\">\n  <thead>\n    <tr style=\"text-align: right;\">\n      <th></th>\n      <th>model</th>\n      <th>year</th>\n      <th>price</th>\n      <th>transmission</th>\n      <th>mileage</th>\n      <th>fuelType</th>\n      <th>tax</th>\n      <th>mpg</th>\n      <th>engineSize</th>\n    </tr>\n  </thead>\n  <tbody>\n    <tr>\n      <th>0</th>\n      <td>Fiesta</td>\n      <td>2017</td>\n      <td>12000</td>\n      <td>Automatic</td>\n      <td>15944</td>\n      <td>Petrol</td>\n      <td>150</td>\n      <td>57.7</td>\n      <td>1.0</td>\n    </tr>\n    <tr>\n      <th>1</th>\n      <td>Focus</td>\n      <td>2018</td>\n      <td>14000</td>\n      <td>Manual</td>\n      <td>9083</td>\n      <td>Petrol</td>\n      <td>150</td>\n      <td>57.7</td>\n      <td>1.0</td>\n    </tr>\n    <tr>\n      <th>2</th>\n      <td>Focus</td>\n      <td>2017</td>\n      <td>13000</td>\n      <td>Manual</td>\n      <td>12456</td>\n      <td>Petrol</td>\n      <td>150</td>\n      <td>57.7</td>\n      <td>1.0</td>\n    </tr>\n    <tr>\n      <th>3</th>\n      <td>Fiesta</td>\n      <td>2019</td>\n      <td>17500</td>\n      <td>Manual</td>\n      <td>10460</td>\n      <td>Petrol</td>\n      <td>145</td>\n      <td>40.3</td>\n      <td>1.5</td>\n    </tr>\n    <tr>\n      <th>4</th>\n      <td>Fiesta</td>\n      <td>2019</td>\n      <td>16500</td>\n      <td>Automatic</td>\n      <td>1482</td>\n      <td>Petrol</td>\n      <td>145</td>\n      <td>48.7</td>\n      <td>1.0</td>\n    </tr>\n  </tbody>\n</table>\n</div>"
     },
     "execution_count": 18,
     "metadata": {},
     "output_type": "execute_result"
    }
   ],
   "source": [
    "#criar um subset sem as linhas duplicadas\n",
    "df_sem_duplicados = df.drop_duplicates()\n",
    "df_sem_duplicados.head()"
   ],
   "metadata": {
    "collapsed": false,
    "ExecuteTime": {
     "end_time": "2024-04-16T16:45:29.883221Z",
     "start_time": "2024-04-16T16:45:29.869318Z"
    }
   },
   "id": "e04937b4cd695c6a",
   "execution_count": 18
  },
  {
   "cell_type": "code",
   "outputs": [],
   "source": [],
   "metadata": {
    "collapsed": false
   },
   "id": "6435f4b2f3ee8309"
  },
  {
   "cell_type": "markdown",
   "source": [],
   "metadata": {
    "collapsed": false
   },
   "id": "8156f7cf216c064f"
  },
  {
   "cell_type": "markdown",
   "source": [],
   "metadata": {
    "collapsed": false
   },
   "id": "a5bb8fb601f74a73"
  },
  {
   "cell_type": "code",
   "outputs": [],
   "source": [],
   "metadata": {
    "collapsed": false
   },
   "id": "f5e75eaab2a310d7"
  }
 ],
 "metadata": {
  "kernelspec": {
   "display_name": "Python 3",
   "language": "python",
   "name": "python3"
  },
  "language_info": {
   "codemirror_mode": {
    "name": "ipython",
    "version": 2
   },
   "file_extension": ".py",
   "mimetype": "text/x-python",
   "name": "python",
   "nbconvert_exporter": "python",
   "pygments_lexer": "ipython2",
   "version": "2.7.6"
  }
 },
 "nbformat": 4,
 "nbformat_minor": 5
}
